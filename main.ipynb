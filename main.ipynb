{
 "cells": [
  {
   "cell_type": "markdown",
   "id": "aa1f5c92-ada9-4ebc-a463-b18e967a2738",
   "metadata": {},
   "source": [
    "# Импорт библиотек"
   ]
  },
  {
   "cell_type": "code",
   "execution_count": 1,
   "id": "29aca75e-d5de-4220-9bf7-68e4f89ed02d",
   "metadata": {},
   "outputs": [],
   "source": [
    "import random\n",
    "import yaml\n",
    "import pandas as pd\n",
    "import numpy as np\n",
    "import matplotlib.pyplot as plt\n",
    "import seaborn as sns\n",
    "# import warnings\n",
    "# warnings.filterwarnings('ignore')\n",
    "import scipy.stats as ss\n",
    "from typing import Union, List, Dict, Tuple\n",
    "from sklearn.model_selection import train_test_split"
   ]
  },
  {
   "cell_type": "markdown",
   "id": "e7066898-75fa-4afa-97af-da8040d59f4b",
   "metadata": {},
   "source": [
    "# Конфиг "
   ]
  },
  {
   "cell_type": "code",
   "execution_count": 2,
   "id": "0abb3327-427f-4dfe-9b69-4ae426897a51",
   "metadata": {},
   "outputs": [],
   "source": [
    "with open('config.yaml') as f:\n",
    "    config = yaml.load(f, Loader=yaml.FullLoader)\n",
    "    \n",
    "path_to_data = config['path_to_data']\n",
    "seed = config['random_state']\n",
    "\n",
    "%config InlineBackend.figure_formats = config['backend_figure_formats']\n",
    "random.seed(seed)\n",
    "np.random.seed(seed)\n",
    "# pd.set_option('display.precision', config['display_precision'])"
   ]
  },
  {
   "cell_type": "markdown",
   "id": "a7ab0e25-dc85-427c-ad0a-67dccb16e769",
   "metadata": {},
   "source": [
    "# Разведывательный анализ данных"
   ]
  },
  {
   "cell_type": "code",
   "execution_count": 3,
   "id": "8195d8fa-cc19-4574-b7be-c85fec766c10",
   "metadata": {},
   "outputs": [
    {
     "name": "stdout",
     "output_type": "stream",
     "text": [
      "Число транзакций: 7620119\n"
     ]
    },
    {
     "data": {
      "text/html": [
       "<div>\n",
       "<style scoped>\n",
       "    .dataframe tbody tr th:only-of-type {\n",
       "        vertical-align: middle;\n",
       "    }\n",
       "\n",
       "    .dataframe tbody tr th {\n",
       "        vertical-align: top;\n",
       "    }\n",
       "\n",
       "    .dataframe thead th {\n",
       "        text-align: right;\n",
       "    }\n",
       "</style>\n",
       "<table border=\"1\" class=\"dataframe\">\n",
       "  <thead>\n",
       "    <tr style=\"text-align: right;\">\n",
       "      <th></th>\n",
       "      <th>sku_id</th>\n",
       "      <th>price</th>\n",
       "      <th>number</th>\n",
       "      <th>cheque_id</th>\n",
       "      <th>litrs</th>\n",
       "      <th>client_id</th>\n",
       "      <th>shop_id</th>\n",
       "      <th>date</th>\n",
       "    </tr>\n",
       "  </thead>\n",
       "  <tbody>\n",
       "    <tr>\n",
       "      <th>2466387</th>\n",
       "      <td>1705</td>\n",
       "      <td>0.008979</td>\n",
       "      <td>0.000452</td>\n",
       "      <td>1037320</td>\n",
       "      <td>0.104183</td>\n",
       "      <td>152741.0</td>\n",
       "      <td>63</td>\n",
       "      <td>2171-06-12</td>\n",
       "    </tr>\n",
       "    <tr>\n",
       "      <th>1930834</th>\n",
       "      <td>1163</td>\n",
       "      <td>0.002509</td>\n",
       "      <td>0.000000</td>\n",
       "      <td>2334351</td>\n",
       "      <td>0.144883</td>\n",
       "      <td>NaN</td>\n",
       "      <td>40</td>\n",
       "      <td>2171-06-23</td>\n",
       "    </tr>\n",
       "    <tr>\n",
       "      <th>7440318</th>\n",
       "      <td>1140</td>\n",
       "      <td>0.006567</td>\n",
       "      <td>0.000452</td>\n",
       "      <td>3290322</td>\n",
       "      <td>0.104183</td>\n",
       "      <td>NaN</td>\n",
       "      <td>102</td>\n",
       "      <td>2171-03-04</td>\n",
       "    </tr>\n",
       "    <tr>\n",
       "      <th>2446771</th>\n",
       "      <td>1159</td>\n",
       "      <td>0.002586</td>\n",
       "      <td>0.000000</td>\n",
       "      <td>877192</td>\n",
       "      <td>0.123961</td>\n",
       "      <td>9156.0</td>\n",
       "      <td>18</td>\n",
       "      <td>2171-06-12</td>\n",
       "    </tr>\n",
       "    <tr>\n",
       "      <th>673570</th>\n",
       "      <td>2226</td>\n",
       "      <td>0.009184</td>\n",
       "      <td>0.000452</td>\n",
       "      <td>3007243</td>\n",
       "      <td>0.104183</td>\n",
       "      <td>123659.0</td>\n",
       "      <td>73</td>\n",
       "      <td>2171-07-17</td>\n",
       "    </tr>\n",
       "  </tbody>\n",
       "</table>\n",
       "</div>"
      ],
      "text/plain": [
       "         sku_id     price    number  cheque_id     litrs  client_id  shop_id  \\\n",
       "2466387    1705  0.008979  0.000452    1037320  0.104183   152741.0       63   \n",
       "1930834    1163  0.002509  0.000000    2334351  0.144883        NaN       40   \n",
       "7440318    1140  0.006567  0.000452    3290322  0.104183        NaN      102   \n",
       "2446771    1159  0.002586  0.000000     877192  0.123961     9156.0       18   \n",
       "673570     2226  0.009184  0.000452    3007243  0.104183   123659.0       73   \n",
       "\n",
       "              date  \n",
       "2466387 2171-06-12  \n",
       "1930834 2171-06-23  \n",
       "7440318 2171-03-04  \n",
       "2446771 2171-06-12  \n",
       "673570  2171-07-17  "
      ]
     },
     "execution_count": 3,
     "metadata": {},
     "output_type": "execute_result"
    }
   ],
   "source": [
    "transactions = pd.read_parquet(f'{path_to_data}transactions.parquet')\n",
    "print('Число транзакций:', len(transactions))\n",
    "\n",
    "# Беру sample, а не head/tail, чтобы порядок данных не исказил представление о них\n",
    "transactions.sample(5, random_state=seed)"
   ]
  },
  {
   "cell_type": "code",
   "execution_count": 4,
   "id": "abed7267-da46-4699-a05b-568ad076a9b5",
   "metadata": {},
   "outputs": [
    {
     "name": "stdout",
     "output_type": "stream",
     "text": [
      "<class 'pandas.core.frame.DataFrame'>\n",
      "RangeIndex: 7620119 entries, 0 to 7620118\n",
      "Data columns (total 8 columns):\n",
      " #   Column     Dtype         \n",
      "---  ------     -----         \n",
      " 0   sku_id     int64         \n",
      " 1   price      float64       \n",
      " 2   number     float64       \n",
      " 3   cheque_id  int64         \n",
      " 4   litrs      float64       \n",
      " 5   client_id  float64       \n",
      " 6   shop_id    int64         \n",
      " 7   date       datetime64[ns]\n",
      "dtypes: datetime64[ns](1), float64(4), int64(3)\n",
      "memory usage: 465.1 MB\n"
     ]
    }
   ],
   "source": [
    "# Посмотрим, в порядке ли всё с типами колонок\n",
    "# Хотелось бы client_id заменить на int (вряд ли айди - флоат), чтобы не тратить память;\n",
    "# Но просто это не сделать - есть пропуски (см. дальше), оставлю пока что так\n",
    "transactions.info()"
   ]
  },
  {
   "cell_type": "code",
   "execution_count": 5,
   "id": "2f01b2d8-29b1-40dc-b081-dd998c13f33a",
   "metadata": {},
   "outputs": [],
   "source": [
    "# Отложим кусок выборки, чтобы не подогнать данные под свои гипотезы\n",
    "# (заодно, он выступит тестом для проверки моделей)\n",
    "transactions.sort_values(by='date', inplace=True)\n",
    "train_transactions, test_transactions = train_test_split(transactions, test_size=0.3, shuffle=False)\n",
    "\n",
    "del transactions  # чтобы не тратить память"
   ]
  },
  {
   "cell_type": "code",
   "execution_count": 6,
   "id": "dc5291e5-315b-45a3-b45d-b431d2301146",
   "metadata": {},
   "outputs": [
    {
     "name": "stdout",
     "output_type": "stream",
     "text": [
      "Число товаров в номенклатуре: 5103\n"
     ]
    },
    {
     "data": {
      "text/html": [
       "<div>\n",
       "<style scoped>\n",
       "    .dataframe tbody tr th:only-of-type {\n",
       "        vertical-align: middle;\n",
       "    }\n",
       "\n",
       "    .dataframe tbody tr th {\n",
       "        vertical-align: top;\n",
       "    }\n",
       "\n",
       "    .dataframe thead th {\n",
       "        text-align: right;\n",
       "    }\n",
       "</style>\n",
       "<table border=\"1\" class=\"dataframe\">\n",
       "  <thead>\n",
       "    <tr style=\"text-align: right;\">\n",
       "      <th></th>\n",
       "      <th>sku_id</th>\n",
       "      <th>full_name</th>\n",
       "      <th>brand</th>\n",
       "      <th>sku_group</th>\n",
       "      <th>OTM</th>\n",
       "      <th>units</th>\n",
       "      <th>country</th>\n",
       "    </tr>\n",
       "  </thead>\n",
       "  <tbody>\n",
       "    <tr>\n",
       "      <th>4137</th>\n",
       "      <td>2816</td>\n",
       "      <td>unknown</td>\n",
       "      <td>unknown</td>\n",
       "      <td>Соки и сокосодержащие напитки</td>\n",
       "      <td>unknown</td>\n",
       "      <td>unknown</td>\n",
       "      <td>unknown</td>\n",
       "    </tr>\n",
       "    <tr>\n",
       "      <th>586</th>\n",
       "      <td>634</td>\n",
       "      <td>Масло Lubricrol Magnatec 5W-30 A3/B4 1л</td>\n",
       "      <td>Lubricrol</td>\n",
       "      <td>Масла моторные (для Ethereumовых двигателей)</td>\n",
       "      <td>Нет</td>\n",
       "      <td>л</td>\n",
       "      <td>ГЕРМАНИЯ</td>\n",
       "    </tr>\n",
       "    <tr>\n",
       "      <th>553</th>\n",
       "      <td>609</td>\n",
       "      <td>Масло G-Energy F Synth 5W-40 1л</td>\n",
       "      <td>G-Energy</td>\n",
       "      <td>Масла моторные (для Ethereumовых двигателей) \"...</td>\n",
       "      <td>Нет</td>\n",
       "      <td>л</td>\n",
       "      <td>ИТАЛИЯ</td>\n",
       "    </tr>\n",
       "    <tr>\n",
       "      <th>227</th>\n",
       "      <td>3644</td>\n",
       "      <td>Семечки БАБКИНЫ СЕМЕЧКИ 100г</td>\n",
       "      <td>БАБКИНЫ СЕМЕЧКИ</td>\n",
       "      <td>Снеки</td>\n",
       "      <td>Нет</td>\n",
       "      <td>г</td>\n",
       "      <td>unknown</td>\n",
       "    </tr>\n",
       "    <tr>\n",
       "      <th>1321</th>\n",
       "      <td>1869</td>\n",
       "      <td>Ароматизатор Areon FRTN17 Fresco black crystal</td>\n",
       "      <td>Areon</td>\n",
       "      <td>Уход за автомобилем</td>\n",
       "      <td>Нет</td>\n",
       "      <td>мл</td>\n",
       "      <td>БОЛГАРИЯ</td>\n",
       "    </tr>\n",
       "  </tbody>\n",
       "</table>\n",
       "</div>"
      ],
      "text/plain": [
       "      sku_id                                       full_name            brand  \\\n",
       "4137    2816                                         unknown          unknown   \n",
       "586      634         Масло Lubricrol Magnatec 5W-30 A3/B4 1л        Lubricrol   \n",
       "553      609                 Масло G-Energy F Synth 5W-40 1л         G-Energy   \n",
       "227     3644                    Семечки БАБКИНЫ СЕМЕЧКИ 100г  БАБКИНЫ СЕМЕЧКИ   \n",
       "1321    1869  Ароматизатор Areon FRTN17 Fresco black crystal            Areon   \n",
       "\n",
       "                                              sku_group      OTM    units  \\\n",
       "4137                      Соки и сокосодержащие напитки  unknown  unknown   \n",
       "586        Масла моторные (для Ethereumовых двигателей)      Нет        л   \n",
       "553   Масла моторные (для Ethereumовых двигателей) \"...      Нет        л   \n",
       "227                                               Снеки      Нет        г   \n",
       "1321                                Уход за автомобилем      Нет       мл   \n",
       "\n",
       "       country  \n",
       "4137   unknown  \n",
       "586   ГЕРМАНИЯ  \n",
       "553     ИТАЛИЯ  \n",
       "227    unknown  \n",
       "1321  БОЛГАРИЯ  "
      ]
     },
     "execution_count": 6,
     "metadata": {},
     "output_type": "execute_result"
    }
   ],
   "source": [
    "sku_info = pd.read_parquet(f'{path_to_data}nomenclature.parquet')\n",
    "print('Число товаров в номенклатуре:', len(sku_info))\n",
    "sku_info.sample(5, random_state=seed)"
   ]
  },
  {
   "cell_type": "code",
   "execution_count": 7,
   "id": "8b40eb5b-6e5a-4f6d-a688-3ad97cd8406f",
   "metadata": {},
   "outputs": [
    {
     "name": "stdout",
     "output_type": "stream",
     "text": [
      "<class 'pandas.core.frame.DataFrame'>\n",
      "RangeIndex: 5103 entries, 0 to 5102\n",
      "Data columns (total 7 columns):\n",
      " #   Column     Non-Null Count  Dtype \n",
      "---  ------     --------------  ----- \n",
      " 0   sku_id     5103 non-null   int64 \n",
      " 1   full_name  5094 non-null   object\n",
      " 2   brand      5094 non-null   object\n",
      " 3   sku_group  5103 non-null   object\n",
      " 4   OTM        5094 non-null   object\n",
      " 5   units      5094 non-null   object\n",
      " 6   country    5094 non-null   object\n",
      "dtypes: int64(1), object(6)\n",
      "memory usage: 279.2+ KB\n"
     ]
    }
   ],
   "source": [
    "sku_info.info()"
   ]
  },
  {
   "cell_type": "code",
   "execution_count": 8,
   "id": "74c6939f-3a26-4fe9-ace7-e7ca2d7aa48f",
   "metadata": {},
   "outputs": [
    {
     "name": "stdout",
     "output_type": "stream",
     "text": [
      "sku_id\n"
     ]
    }
   ],
   "source": [
    "# \"unknown\" заменю на np.nan\n",
    "sku_info = (\n",
    "    sku_info\n",
    "    .replace(to_replace='unknown', value=np.nan)\n",
    ")\n",
    "\n",
    "# Приведем названия к нижнему регистру для удобства\n",
    "for col in sku_info.columns:\n",
    "    try:\n",
    "        sku_info[col] = sku_info[col].str.lower()\n",
    "    except:\n",
    "        print(col)"
   ]
  },
  {
   "cell_type": "code",
   "execution_count": 9,
   "id": "cd7bf092-70c8-4711-91bb-e48b39d0fa01",
   "metadata": {},
   "outputs": [
    {
     "data": {
      "text/plain": [
       "sku_id       0.000000\n",
       "price        0.000000\n",
       "number       0.000000\n",
       "cheque_id    0.000000\n",
       "litrs        0.000000\n",
       "client_id    0.490991\n",
       "shop_id      0.000000\n",
       "date         0.000000\n",
       "dtype: float64"
      ]
     },
     "execution_count": 9,
     "metadata": {},
     "output_type": "execute_result"
    }
   ],
   "source": [
    "# В транзакциях пропуски есть только у айди клиента, и их половина\n",
    "# К тому же, у нас нету фичей клиентов\n",
    "# => в качестве бейзлайна возьмём item-based подход\n",
    "train_transactions.isnull().mean()"
   ]
  },
  {
   "cell_type": "code",
   "execution_count": 10,
   "id": "48640376-4370-41ee-92b4-283ee303a538",
   "metadata": {},
   "outputs": [
    {
     "data": {
      "text/html": [
       "<div>\n",
       "<style scoped>\n",
       "    .dataframe tbody tr th:only-of-type {\n",
       "        vertical-align: middle;\n",
       "    }\n",
       "\n",
       "    .dataframe tbody tr th {\n",
       "        vertical-align: top;\n",
       "    }\n",
       "\n",
       "    .dataframe thead th {\n",
       "        text-align: right;\n",
       "    }\n",
       "</style>\n",
       "<table border=\"1\" class=\"dataframe\">\n",
       "  <thead>\n",
       "    <tr style=\"text-align: right;\">\n",
       "      <th></th>\n",
       "      <th>sku_id</th>\n",
       "      <th>full_name</th>\n",
       "      <th>brand</th>\n",
       "      <th>sku_group</th>\n",
       "      <th>OTM</th>\n",
       "      <th>units</th>\n",
       "      <th>country</th>\n",
       "    </tr>\n",
       "  </thead>\n",
       "  <tbody>\n",
       "    <tr>\n",
       "      <th>0</th>\n",
       "      <td>0</td>\n",
       "      <td>масло lubricrol magnatec diesel 10w-40 b4 1л</td>\n",
       "      <td>lubricrol</td>\n",
       "      <td>масла моторные (для варповых двигателей)</td>\n",
       "      <td>нет</td>\n",
       "      <td>NaN</td>\n",
       "      <td>германия</td>\n",
       "    </tr>\n",
       "    <tr>\n",
       "      <th>2</th>\n",
       "      <td>3397</td>\n",
       "      <td>накидка уранпромethereum на спинку автосиденья...</td>\n",
       "      <td>уранпромethereum</td>\n",
       "      <td>автотовары</td>\n",
       "      <td>да</td>\n",
       "      <td>шт</td>\n",
       "      <td>NaN</td>\n",
       "    </tr>\n",
       "    <tr>\n",
       "      <th>3</th>\n",
       "      <td>2130</td>\n",
       "      <td>жилет уранпромethereum световозвращающий</td>\n",
       "      <td>уранпромethereum</td>\n",
       "      <td>автотовары</td>\n",
       "      <td>да</td>\n",
       "      <td>шт</td>\n",
       "      <td>NaN</td>\n",
       "    </tr>\n",
       "    <tr>\n",
       "      <th>6</th>\n",
       "      <td>2559</td>\n",
       "      <td>гриль-дог fly cafe сосиска говяжья 168г</td>\n",
       "      <td>fly cafe</td>\n",
       "      <td>общественное питание</td>\n",
       "      <td>нет</td>\n",
       "      <td>г</td>\n",
       "      <td>NaN</td>\n",
       "    </tr>\n",
       "    <tr>\n",
       "      <th>7</th>\n",
       "      <td>2930</td>\n",
       "      <td>френч-дог fly cafe сосиска говяжья 177г</td>\n",
       "      <td>fly cafe</td>\n",
       "      <td>общественное питание</td>\n",
       "      <td>нет</td>\n",
       "      <td>г</td>\n",
       "      <td>NaN</td>\n",
       "    </tr>\n",
       "    <tr>\n",
       "      <th>...</th>\n",
       "      <td>...</td>\n",
       "      <td>...</td>\n",
       "      <td>...</td>\n",
       "      <td>...</td>\n",
       "      <td>...</td>\n",
       "      <td>...</td>\n",
       "      <td>...</td>\n",
       "    </tr>\n",
       "    <tr>\n",
       "      <th>5098</th>\n",
       "      <td>2363</td>\n",
       "      <td>NaN</td>\n",
       "      <td>NaN</td>\n",
       "      <td>уход за автомобилем</td>\n",
       "      <td>NaN</td>\n",
       "      <td>NaN</td>\n",
       "      <td>NaN</td>\n",
       "    </tr>\n",
       "    <tr>\n",
       "      <th>5099</th>\n",
       "      <td>5027</td>\n",
       "      <td>NaN</td>\n",
       "      <td>NaN</td>\n",
       "      <td>автотовары</td>\n",
       "      <td>NaN</td>\n",
       "      <td>NaN</td>\n",
       "      <td>NaN</td>\n",
       "    </tr>\n",
       "    <tr>\n",
       "      <th>5100</th>\n",
       "      <td>571</td>\n",
       "      <td>NaN</td>\n",
       "      <td>NaN</td>\n",
       "      <td>снеки</td>\n",
       "      <td>NaN</td>\n",
       "      <td>NaN</td>\n",
       "      <td>NaN</td>\n",
       "    </tr>\n",
       "    <tr>\n",
       "      <th>5101</th>\n",
       "      <td>5081</td>\n",
       "      <td>NaN</td>\n",
       "      <td>NaN</td>\n",
       "      <td>соки и сокосодержащие напитки</td>\n",
       "      <td>NaN</td>\n",
       "      <td>NaN</td>\n",
       "      <td>NaN</td>\n",
       "    </tr>\n",
       "    <tr>\n",
       "      <th>5102</th>\n",
       "      <td>2051</td>\n",
       "      <td>NaN</td>\n",
       "      <td>NaN</td>\n",
       "      <td>сладкие уранированные напитки, холодный чай</td>\n",
       "      <td>NaN</td>\n",
       "      <td>NaN</td>\n",
       "      <td>NaN</td>\n",
       "    </tr>\n",
       "  </tbody>\n",
       "</table>\n",
       "<p>2671 rows × 7 columns</p>\n",
       "</div>"
      ],
      "text/plain": [
       "      sku_id                                          full_name  \\\n",
       "0          0       масло lubricrol magnatec diesel 10w-40 b4 1л   \n",
       "2       3397  накидка уранпромethereum на спинку автосиденья...   \n",
       "3       2130           жилет уранпромethereum световозвращающий   \n",
       "6       2559            гриль-дог fly cafe сосиска говяжья 168г   \n",
       "7       2930            френч-дог fly cafe сосиска говяжья 177г   \n",
       "...      ...                                                ...   \n",
       "5098    2363                                                NaN   \n",
       "5099    5027                                                NaN   \n",
       "5100     571                                                NaN   \n",
       "5101    5081                                                NaN   \n",
       "5102    2051                                                NaN   \n",
       "\n",
       "                 brand                                    sku_group  OTM  \\\n",
       "0            lubricrol     масла моторные (для варповых двигателей)  нет   \n",
       "2     уранпромethereum                                   автотовары   да   \n",
       "3     уранпромethereum                                   автотовары   да   \n",
       "6             fly cafe                         общественное питание  нет   \n",
       "7             fly cafe                         общественное питание  нет   \n",
       "...                ...                                          ...  ...   \n",
       "5098               NaN                          уход за автомобилем  NaN   \n",
       "5099               NaN                                   автотовары  NaN   \n",
       "5100               NaN                                        снеки  NaN   \n",
       "5101               NaN                соки и сокосодержащие напитки  NaN   \n",
       "5102               NaN  сладкие уранированные напитки, холодный чай  NaN   \n",
       "\n",
       "     units   country  \n",
       "0      NaN  германия  \n",
       "2       шт       NaN  \n",
       "3       шт       NaN  \n",
       "6        г       NaN  \n",
       "7        г       NaN  \n",
       "...    ...       ...  \n",
       "5098   NaN       NaN  \n",
       "5099   NaN       NaN  \n",
       "5100   NaN       NaN  \n",
       "5101   NaN       NaN  \n",
       "5102   NaN       NaN  \n",
       "\n",
       "[2671 rows x 7 columns]"
      ]
     },
     "execution_count": 10,
     "metadata": {},
     "output_type": "execute_result"
    }
   ],
   "source": [
    "# В номенклатуре больше половины данных с каким-то пропуском\n",
    "\n",
    "none_statement = lambda df: df.isnull().any(axis=1)\n",
    "none_sku = sku_info.loc[none_statement(sku_info)]\n",
    "none_sku"
   ]
  },
  {
   "cell_type": "code",
   "execution_count": 11,
   "id": "f655b2db-316d-4da2-a911-17f4e14e4dbb",
   "metadata": {},
   "outputs": [
    {
     "name": "stdout",
     "output_type": "stream",
     "text": [
      "Число транзакций с \"плохими\" sku: 3156611\n",
      "Доля таких транзакций: 0.59\n"
     ]
    }
   ],
   "source": [
    "# 59% транзакций с этими товарами, не хочется терять о них информацию\n",
    "train_transactions_with_none_sku = train_transactions.loc[train_transactions.sku_id.isin(set(none_sku['sku_id']))]\n",
    "\n",
    "print(f'Число транзакций с \"плохими\" sku: {len(train_transactions_with_none_sku)}')\n",
    "print(f'Доля таких транзакций: {len(train_transactions_with_none_sku) / len(train_transactions):.2f}')"
   ]
  },
  {
   "cell_type": "markdown",
   "id": "f1bd70a4-e5f8-4092-b21f-4dfb24ff64da",
   "metadata": {},
   "source": [
    "Для товара с \"топливной\" sku_group легко заполнить units - литры. \\\n",
    "Для Ethereum-подобных вещей тоже возьмём топливо, потому что среди всех sku_group можно найти (см. гистограммы ниже), например, такую:\n",
    "\"Масла моторные (для Ethereumовых двигателей)\""
   ]
  },
  {
   "cell_type": "code",
   "execution_count": 12,
   "id": "ab004e8a-fb6b-4eee-ac10-dd5576fce6d1",
   "metadata": {
    "tags": []
   },
   "outputs": [],
   "source": [
    "good_sku = sku_info.loc[~none_statement(sku_info)]\n",
    "del sku_info"
   ]
  },
  {
   "cell_type": "code",
   "execution_count": 13,
   "id": "d0b26e4f-850f-4ee5-9828-aede92dff77b",
   "metadata": {},
   "outputs": [
    {
     "data": {
      "text/plain": [
       "True"
      ]
     },
     "execution_count": 13,
     "metadata": {},
     "output_type": "execute_result"
    }
   ],
   "source": [
    "# Была надежда, что можно будет найти sku_group, по которой можно однозначно восстановить признак OTM\n",
    "# Но нет\n",
    "our_goods = good_sku.loc[good_sku['OTM']=='Да']\n",
    "foreign_goods = good_sku.loc[good_sku['OTM']=='Нет']\n",
    "\n",
    "set(our_goods['sku_group']).issubset(foreign_goods['sku_group'])"
   ]
  },
  {
   "cell_type": "markdown",
   "id": "4f1f481d-0152-44c4-8f00-6a137fee68e4",
   "metadata": {},
   "source": [
    "Давайте для начала заполним пропуски в номенклатуре модой по каждому столбцу.\\\n",
    "Конечно, это очень топорное решение -- есть строки с известными фичами, по таким строкам можно, например, оценить один признак и по нему восстановить другие."
   ]
  },
  {
   "cell_type": "code",
   "execution_count": 14,
   "id": "f621213e-1ab4-42c6-afe8-79391fefb0af",
   "metadata": {},
   "outputs": [],
   "source": [
    "sku_info =  pd.concat([none_sku, good_sku])\n",
    "sku_info.fillna(sku_info.mode().iloc[0], inplace=True)\n",
    "\n",
    "del good_sku, none_sku"
   ]
  },
  {
   "cell_type": "code",
   "execution_count": 15,
   "id": "a53202f4-5908-448a-a0bf-974d550f8775",
   "metadata": {},
   "outputs": [],
   "source": [
    "train_transactions = pd.merge(\n",
    "    left=train_transactions,\n",
    "    right=sku_info,\n",
    "    on='sku_id',\n",
    "    how='left'\n",
    ")"
   ]
  },
  {
   "cell_type": "code",
   "execution_count": 16,
   "id": "4773c7e6-f092-46d3-a198-57935f09262e",
   "metadata": {},
   "outputs": [
    {
     "data": {
      "text/plain": [
       "sku_id             0\n",
       "price              0\n",
       "number             0\n",
       "cheque_id          0\n",
       "litrs              0\n",
       "client_id    2618987\n",
       "shop_id            0\n",
       "date               0\n",
       "full_name          0\n",
       "brand              0\n",
       "sku_group          0\n",
       "OTM                0\n",
       "units              0\n",
       "country            0\n",
       "dtype: int64"
      ]
     },
     "execution_count": 16,
     "metadata": {},
     "output_type": "execute_result"
    }
   ],
   "source": [
    "# Хорошо, что по всем sku_id в транзакциях нашлась информация в номенклатуре\n",
    "train_transactions.isnull().sum()"
   ]
  },
  {
   "cell_type": "code",
   "execution_count": 17,
   "id": "f4e28648-77f5-4f43-994e-398ce79e511b",
   "metadata": {},
   "outputs": [
    {
     "data": {
      "text/plain": [
       "True"
      ]
     },
     "execution_count": 17,
     "metadata": {},
     "output_type": "execute_result"
    }
   ],
   "source": [
    "# Литры и штуки все положительные, тоже хорошо\n",
    "np.all(train_transactions.litrs >= 0) & np.all(train_transactions.number >= 0)"
   ]
  },
  {
   "cell_type": "code",
   "execution_count": 18,
   "id": "5342551b-fe69-433f-9300-20accf800dd3",
   "metadata": {},
   "outputs": [],
   "source": [
    "# Преобразуем дату в более информативные признаки\n",
    "\n",
    "def create_date_features(df: pd.DataFrame, date_column: Union[List[str], str]) -> None:\n",
    "    # Функция принимает ссылку на датафрейм и меняет его, поэтому ничего не возвращает\n",
    "    df['year'] = df[date_column].dt.year\n",
    "    df['month'] = df[date_column].dt.month\n",
    "    df['week'] = df[date_column].dt.isocalendar().week\n",
    "    df['day'] = df[date_column].dt.day\n",
    "    df['dayofweek'] = df[date_column].dt.dayofweek\n",
    "    df.drop(columns='date', inplace=True)"
   ]
  },
  {
   "cell_type": "code",
   "execution_count": 19,
   "id": "90649359-54fe-4ddd-9368-a3b7c47d7435",
   "metadata": {},
   "outputs": [
    {
     "data": {
      "text/html": [
       "<div>\n",
       "<style scoped>\n",
       "    .dataframe tbody tr th:only-of-type {\n",
       "        vertical-align: middle;\n",
       "    }\n",
       "\n",
       "    .dataframe tbody tr th {\n",
       "        vertical-align: top;\n",
       "    }\n",
       "\n",
       "    .dataframe thead th {\n",
       "        text-align: right;\n",
       "    }\n",
       "</style>\n",
       "<table border=\"1\" class=\"dataframe\">\n",
       "  <thead>\n",
       "    <tr style=\"text-align: right;\">\n",
       "      <th></th>\n",
       "      <th>sku_id</th>\n",
       "      <th>price</th>\n",
       "      <th>number</th>\n",
       "      <th>cheque_id</th>\n",
       "      <th>litrs</th>\n",
       "      <th>client_id</th>\n",
       "      <th>shop_id</th>\n",
       "      <th>full_name</th>\n",
       "      <th>brand</th>\n",
       "      <th>sku_group</th>\n",
       "      <th>OTM</th>\n",
       "      <th>units</th>\n",
       "      <th>country</th>\n",
       "      <th>year</th>\n",
       "      <th>month</th>\n",
       "      <th>week</th>\n",
       "      <th>day</th>\n",
       "      <th>dayofweek</th>\n",
       "    </tr>\n",
       "  </thead>\n",
       "  <tbody>\n",
       "    <tr>\n",
       "      <th>2261766</th>\n",
       "      <td>1158</td>\n",
       "      <td>0.002335</td>\n",
       "      <td>0.000000</td>\n",
       "      <td>3104473</td>\n",
       "      <td>0.150836</td>\n",
       "      <td>338480.0</td>\n",
       "      <td>33</td>\n",
       "      <td>cигарета vape'n'go stick электронная одноразов...</td>\n",
       "      <td>fly cafe</td>\n",
       "      <td>ethereum 92</td>\n",
       "      <td>нет</td>\n",
       "      <td>шт</td>\n",
       "      <td>россия</td>\n",
       "      <td>2171</td>\n",
       "      <td>4</td>\n",
       "      <td>15</td>\n",
       "      <td>14</td>\n",
       "      <td>6</td>\n",
       "    </tr>\n",
       "    <tr>\n",
       "      <th>5017532</th>\n",
       "      <td>3578</td>\n",
       "      <td>0.010723</td>\n",
       "      <td>0.000452</td>\n",
       "      <td>1302469</td>\n",
       "      <td>0.104183</td>\n",
       "      <td>323674.0</td>\n",
       "      <td>44</td>\n",
       "      <td>напиток fly cafe горячий шоколад 0,2л</td>\n",
       "      <td>fly cafe</td>\n",
       "      <td>прочие напитки кафе</td>\n",
       "      <td>да</td>\n",
       "      <td>л</td>\n",
       "      <td>россия</td>\n",
       "      <td>2171</td>\n",
       "      <td>6</td>\n",
       "      <td>23</td>\n",
       "      <td>9</td>\n",
       "      <td>6</td>\n",
       "    </tr>\n",
       "    <tr>\n",
       "      <th>3612392</th>\n",
       "      <td>533</td>\n",
       "      <td>0.002514</td>\n",
       "      <td>0.000452</td>\n",
       "      <td>2833617</td>\n",
       "      <td>0.104183</td>\n",
       "      <td>46908.0</td>\n",
       "      <td>76</td>\n",
       "      <td>резинка жевательная dirol x-fresh мандарин 18/16г</td>\n",
       "      <td>dirol</td>\n",
       "      <td>кондитерские изделия</td>\n",
       "      <td>нет</td>\n",
       "      <td>г</td>\n",
       "      <td>россия</td>\n",
       "      <td>2171</td>\n",
       "      <td>5</td>\n",
       "      <td>19</td>\n",
       "      <td>12</td>\n",
       "      <td>6</td>\n",
       "    </tr>\n",
       "  </tbody>\n",
       "</table>\n",
       "</div>"
      ],
      "text/plain": [
       "         sku_id     price    number  cheque_id     litrs  client_id  shop_id  \\\n",
       "2261766    1158  0.002335  0.000000    3104473  0.150836   338480.0       33   \n",
       "5017532    3578  0.010723  0.000452    1302469  0.104183   323674.0       44   \n",
       "3612392     533  0.002514  0.000452    2833617  0.104183    46908.0       76   \n",
       "\n",
       "                                                 full_name     brand  \\\n",
       "2261766  cигарета vape'n'go stick электронная одноразов...  fly cafe   \n",
       "5017532              напиток fly cafe горячий шоколад 0,2л  fly cafe   \n",
       "3612392  резинка жевательная dirol x-fresh мандарин 18/16г     dirol   \n",
       "\n",
       "                    sku_group  OTM units country  year  month  week  day  \\\n",
       "2261766           ethereum 92  нет    шт  россия  2171      4    15   14   \n",
       "5017532   прочие напитки кафе   да     л  россия  2171      6    23    9   \n",
       "3612392  кондитерские изделия  нет     г  россия  2171      5    19   12   \n",
       "\n",
       "         dayofweek  \n",
       "2261766          6  \n",
       "5017532          6  \n",
       "3612392          6  "
      ]
     },
     "execution_count": 19,
     "metadata": {},
     "output_type": "execute_result"
    }
   ],
   "source": [
    "create_date_features(train_transactions, 'date')\n",
    "train_transactions.sample(3)"
   ]
  },
  {
   "cell_type": "code",
   "execution_count": 20,
   "id": "a3f6c879-080c-474f-b45e-e63dda439b77",
   "metadata": {},
   "outputs": [
    {
     "data": {
      "text/plain": [
       "True"
      ]
     },
     "execution_count": 20,
     "metadata": {},
     "output_type": "execute_result"
    }
   ],
   "source": [
    "# Посмотрим, есть ли записи, относящиеся к одному чеку, но с разными/иногда пропущенными client_id\n",
    "# (вдруг система дала сбой и не для всех товаров чека записала client_id)\n",
    "\n",
    "np.all(\n",
    "    train_transactions\n",
    "    .fillna(-1)\n",
    "    .groupby('cheque_id')['client_id']\n",
    "    .agg(lambda x: len(set(x))) == 1)\n",
    "# Нет, всё однозначно\n",
    "# Значит, по чекам, для которых есть client_id, восстановить пропущенные client_id не получится"
   ]
  },
  {
   "cell_type": "code",
   "execution_count": 21,
   "id": "96e7d78f-2e5c-4934-8242-db79aed05436",
   "metadata": {},
   "outputs": [
    {
     "data": {
      "text/html": [
       "<div>\n",
       "<style scoped>\n",
       "    .dataframe tbody tr th:only-of-type {\n",
       "        vertical-align: middle;\n",
       "    }\n",
       "\n",
       "    .dataframe tbody tr th {\n",
       "        vertical-align: top;\n",
       "    }\n",
       "\n",
       "    .dataframe thead th {\n",
       "        text-align: right;\n",
       "    }\n",
       "</style>\n",
       "<table border=\"1\" class=\"dataframe\">\n",
       "  <thead>\n",
       "    <tr style=\"text-align: right;\">\n",
       "      <th></th>\n",
       "      <th>sku_id</th>\n",
       "      <th>price</th>\n",
       "      <th>number</th>\n",
       "      <th>cheque_id</th>\n",
       "      <th>litrs</th>\n",
       "      <th>client_id</th>\n",
       "      <th>shop_id</th>\n",
       "      <th>full_name</th>\n",
       "      <th>brand</th>\n",
       "      <th>sku_group</th>\n",
       "      <th>OTM</th>\n",
       "      <th>units</th>\n",
       "      <th>country</th>\n",
       "      <th>year</th>\n",
       "      <th>month</th>\n",
       "      <th>week</th>\n",
       "      <th>day</th>\n",
       "      <th>dayofweek</th>\n",
       "    </tr>\n",
       "  </thead>\n",
       "  <tbody>\n",
       "    <tr>\n",
       "      <th>3344992</th>\n",
       "      <td>433</td>\n",
       "      <td>0.011544</td>\n",
       "      <td>0.000452</td>\n",
       "      <td>651091</td>\n",
       "      <td>0.104183</td>\n",
       "      <td>15406.0</td>\n",
       "      <td>89</td>\n",
       "      <td>напиток burn энергетический оригинальный ж/б 0...</td>\n",
       "      <td>burn</td>\n",
       "      <td>энергетические напитки</td>\n",
       "      <td>нет</td>\n",
       "      <td>л</td>\n",
       "      <td>россия</td>\n",
       "      <td>2171</td>\n",
       "      <td>5</td>\n",
       "      <td>18</td>\n",
       "      <td>5</td>\n",
       "      <td>6</td>\n",
       "    </tr>\n",
       "    <tr>\n",
       "      <th>3541645</th>\n",
       "      <td>1596</td>\n",
       "      <td>0.005747</td>\n",
       "      <td>0.000452</td>\n",
       "      <td>1783558</td>\n",
       "      <td>0.104183</td>\n",
       "      <td>NaN</td>\n",
       "      <td>77</td>\n",
       "      <td>испаритель cricket электронный классик 4,5</td>\n",
       "      <td>cricket</td>\n",
       "      <td>табачные изделия</td>\n",
       "      <td>нет</td>\n",
       "      <td>шт</td>\n",
       "      <td>россия</td>\n",
       "      <td>2171</td>\n",
       "      <td>5</td>\n",
       "      <td>19</td>\n",
       "      <td>10</td>\n",
       "      <td>4</td>\n",
       "    </tr>\n",
       "    <tr>\n",
       "      <th>2138308</th>\n",
       "      <td>255</td>\n",
       "      <td>0.007440</td>\n",
       "      <td>0.000452</td>\n",
       "      <td>642009</td>\n",
       "      <td>0.104183</td>\n",
       "      <td>NaN</td>\n",
       "      <td>89</td>\n",
       "      <td>стики kent sticks tobacco</td>\n",
       "      <td>kent</td>\n",
       "      <td>табачные изделия</td>\n",
       "      <td>нет</td>\n",
       "      <td>шт</td>\n",
       "      <td>россия</td>\n",
       "      <td>2171</td>\n",
       "      <td>4</td>\n",
       "      <td>15</td>\n",
       "      <td>11</td>\n",
       "      <td>3</td>\n",
       "    </tr>\n",
       "  </tbody>\n",
       "</table>\n",
       "</div>"
      ],
      "text/plain": [
       "         sku_id     price    number  cheque_id     litrs  client_id  shop_id  \\\n",
       "3344992     433  0.011544  0.000452     651091  0.104183    15406.0       89   \n",
       "3541645    1596  0.005747  0.000452    1783558  0.104183        NaN       77   \n",
       "2138308     255  0.007440  0.000452     642009  0.104183        NaN       89   \n",
       "\n",
       "                                                 full_name    brand  \\\n",
       "3344992  напиток burn энергетический оригинальный ж/б 0...     burn   \n",
       "3541645         испаритель cricket электронный классик 4,5  cricket   \n",
       "2138308                          стики kent sticks tobacco     kent   \n",
       "\n",
       "                      sku_group  OTM units country  year  month  week  day  \\\n",
       "3344992  энергетические напитки  нет     л  россия  2171      5    18    5   \n",
       "3541645        табачные изделия  нет    шт  россия  2171      5    19   10   \n",
       "2138308        табачные изделия  нет    шт  россия  2171      4    15   11   \n",
       "\n",
       "         dayofweek  \n",
       "3344992          6  \n",
       "3541645          4  \n",
       "2138308          3  "
      ]
     },
     "execution_count": 21,
     "metadata": {},
     "output_type": "execute_result"
    }
   ],
   "source": [
    "# Есть транзакции с number > 0 и litrs > 0, чего быть не должно\n",
    "# (товар либо топливо, либо не топливо)\n",
    "\n",
    "wtf_goods_cond = lambda df: (\n",
    "    (df['number'] > 0) &\n",
    "    (df['litrs'] > 0)\n",
    ")\n",
    "train_transactions.loc[wtf_goods_cond(train_transactions)].sample(3)"
   ]
  },
  {
   "cell_type": "code",
   "execution_count": 22,
   "id": "4463f026-ac71-4fa7-9819-900c972d49fd",
   "metadata": {},
   "outputs": [],
   "source": [
    "# Обнулим number у записей с продажей топлива и litrs с продажей не топлива\n",
    "\n",
    "oil_condition = lambda df: (\n",
    "    df.sku_group.str.contains('топливо') |\n",
    "    df.sku_group.str.contains('ethereum') &\n",
    "    ~df.sku_group.str.contains('масла')\n",
    ")\n",
    "\n",
    "train_transactions.loc[oil_condition(train_transactions), 'number'] = 0\n",
    "train_transactions.loc[~oil_condition(train_transactions), 'litrs'] = 0"
   ]
  },
  {
   "cell_type": "code",
   "execution_count": 27,
   "id": "d1d1a4e5-325f-4f0b-a914-ff046a442abd",
   "metadata": {},
   "outputs": [
    {
     "data": {
      "text/html": [
       "<div>\n",
       "<style scoped>\n",
       "    .dataframe tbody tr th:only-of-type {\n",
       "        vertical-align: middle;\n",
       "    }\n",
       "\n",
       "    .dataframe tbody tr th {\n",
       "        vertical-align: top;\n",
       "    }\n",
       "\n",
       "    .dataframe thead th {\n",
       "        text-align: right;\n",
       "    }\n",
       "</style>\n",
       "<table border=\"1\" class=\"dataframe\">\n",
       "  <thead>\n",
       "    <tr style=\"text-align: right;\">\n",
       "      <th></th>\n",
       "      <th>sku_id</th>\n",
       "      <th>price</th>\n",
       "      <th>number</th>\n",
       "      <th>cheque_id</th>\n",
       "      <th>litrs</th>\n",
       "      <th>client_id</th>\n",
       "      <th>shop_id</th>\n",
       "      <th>full_name</th>\n",
       "      <th>brand</th>\n",
       "      <th>sku_group</th>\n",
       "      <th>OTM</th>\n",
       "      <th>units</th>\n",
       "      <th>country</th>\n",
       "      <th>year</th>\n",
       "      <th>month</th>\n",
       "      <th>week</th>\n",
       "      <th>day</th>\n",
       "      <th>dayofweek</th>\n",
       "    </tr>\n",
       "  </thead>\n",
       "  <tbody>\n",
       "    <tr>\n",
       "      <th>1314633</th>\n",
       "      <td>554</td>\n",
       "      <td>0.008620</td>\n",
       "      <td>0.000452</td>\n",
       "      <td>397809</td>\n",
       "      <td>0.000000</td>\n",
       "      <td>NaN</td>\n",
       "      <td>41</td>\n",
       "      <td>сигареты winston xs impulse</td>\n",
       "      <td>winston</td>\n",
       "      <td>табачные изделия</td>\n",
       "      <td>нет</td>\n",
       "      <td>шт</td>\n",
       "      <td>россия</td>\n",
       "      <td>2171</td>\n",
       "      <td>3</td>\n",
       "      <td>13</td>\n",
       "      <td>26</td>\n",
       "      <td>1</td>\n",
       "    </tr>\n",
       "    <tr>\n",
       "      <th>1852991</th>\n",
       "      <td>1159</td>\n",
       "      <td>0.002576</td>\n",
       "      <td>0.000000</td>\n",
       "      <td>2703254</td>\n",
       "      <td>0.111121</td>\n",
       "      <td>NaN</td>\n",
       "      <td>67</td>\n",
       "      <td>cигарета vape'n'go stick электронная одноразов...</td>\n",
       "      <td>fly cafe</td>\n",
       "      <td>ethereum 95</td>\n",
       "      <td>нет</td>\n",
       "      <td>шт</td>\n",
       "      <td>россия</td>\n",
       "      <td>2171</td>\n",
       "      <td>4</td>\n",
       "      <td>14</td>\n",
       "      <td>5</td>\n",
       "      <td>4</td>\n",
       "    </tr>\n",
       "    <tr>\n",
       "      <th>3872317</th>\n",
       "      <td>3324</td>\n",
       "      <td>0.006619</td>\n",
       "      <td>0.000452</td>\n",
       "      <td>253704</td>\n",
       "      <td>0.000000</td>\n",
       "      <td>74094.0</td>\n",
       "      <td>94</td>\n",
       "      <td>напиток fly cafe молокосодержащий кофейный флэ...</td>\n",
       "      <td>fly cafe</td>\n",
       "      <td>кофейные напитки с молоком</td>\n",
       "      <td>да</td>\n",
       "      <td>л</td>\n",
       "      <td>россия</td>\n",
       "      <td>2171</td>\n",
       "      <td>5</td>\n",
       "      <td>20</td>\n",
       "      <td>17</td>\n",
       "      <td>4</td>\n",
       "    </tr>\n",
       "    <tr>\n",
       "      <th>3732272</th>\n",
       "      <td>1159</td>\n",
       "      <td>0.002576</td>\n",
       "      <td>0.000000</td>\n",
       "      <td>2712961</td>\n",
       "      <td>0.112425</td>\n",
       "      <td>81705.0</td>\n",
       "      <td>67</td>\n",
       "      <td>cигарета vape'n'go stick электронная одноразов...</td>\n",
       "      <td>fly cafe</td>\n",
       "      <td>ethereum 95</td>\n",
       "      <td>нет</td>\n",
       "      <td>шт</td>\n",
       "      <td>россия</td>\n",
       "      <td>2171</td>\n",
       "      <td>5</td>\n",
       "      <td>20</td>\n",
       "      <td>14</td>\n",
       "      <td>1</td>\n",
       "    </tr>\n",
       "    <tr>\n",
       "      <th>1913472</th>\n",
       "      <td>80</td>\n",
       "      <td>0.008107</td>\n",
       "      <td>0.000452</td>\n",
       "      <td>640542</td>\n",
       "      <td>0.000000</td>\n",
       "      <td>NaN</td>\n",
       "      <td>89</td>\n",
       "      <td>сигареты chesterfield remix blossom</td>\n",
       "      <td>chesterfield</td>\n",
       "      <td>табачные изделия</td>\n",
       "      <td>нет</td>\n",
       "      <td>шт</td>\n",
       "      <td>россия</td>\n",
       "      <td>2171</td>\n",
       "      <td>4</td>\n",
       "      <td>14</td>\n",
       "      <td>7</td>\n",
       "      <td>6</td>\n",
       "    </tr>\n",
       "  </tbody>\n",
       "</table>\n",
       "</div>"
      ],
      "text/plain": [
       "         sku_id     price    number  cheque_id     litrs  client_id  shop_id  \\\n",
       "1314633     554  0.008620  0.000452     397809  0.000000        NaN       41   \n",
       "1852991    1159  0.002576  0.000000    2703254  0.111121        NaN       67   \n",
       "3872317    3324  0.006619  0.000452     253704  0.000000    74094.0       94   \n",
       "3732272    1159  0.002576  0.000000    2712961  0.112425    81705.0       67   \n",
       "1913472      80  0.008107  0.000452     640542  0.000000        NaN       89   \n",
       "\n",
       "                                                 full_name         brand  \\\n",
       "1314633                        сигареты winston xs impulse       winston   \n",
       "1852991  cигарета vape'n'go stick электронная одноразов...      fly cafe   \n",
       "3872317  напиток fly cafe молокосодержащий кофейный флэ...      fly cafe   \n",
       "3732272  cигарета vape'n'go stick электронная одноразов...      fly cafe   \n",
       "1913472                сигареты chesterfield remix blossom  chesterfield   \n",
       "\n",
       "                          sku_group  OTM units country  year  month  week  \\\n",
       "1314633            табачные изделия  нет    шт  россия  2171      3    13   \n",
       "1852991                 ethereum 95  нет    шт  россия  2171      4    14   \n",
       "3872317  кофейные напитки с молоком   да     л  россия  2171      5    20   \n",
       "3732272                 ethereum 95  нет    шт  россия  2171      5    20   \n",
       "1913472            табачные изделия  нет    шт  россия  2171      4    14   \n",
       "\n",
       "         day  dayofweek  \n",
       "1314633   26          1  \n",
       "1852991    5          4  \n",
       "3872317   17          4  \n",
       "3732272   14          1  \n",
       "1913472    7          6  "
      ]
     },
     "execution_count": 27,
     "metadata": {},
     "output_type": "execute_result"
    }
   ],
   "source": [
    "train_transactions.sample(5)"
   ]
  },
  {
   "cell_type": "markdown",
   "id": "ca33703b-a769-4fc4-ae74-0f9617dcb7c2",
   "metadata": {},
   "source": [
    "# Baseline v0"
   ]
  },
  {
   "cell_type": "markdown",
   "id": "b04f84c0-4819-4406-a2ad-5c78c26a79e9",
   "metadata": {},
   "source": [
    "Нулевой вариант - для магазина предсказывать топ-20 товаров, которые в нём чаще всего берут,\\\n",
    "но в 39% магазинов на истории брали < 20 товаров -- неудобно"
   ]
  },
  {
   "cell_type": "code",
   "execution_count": 24,
   "id": "0633ec3c-c87e-4fc7-a926-82aa0f9ce260",
   "metadata": {},
   "outputs": [
    {
     "name": "stdout",
     "output_type": "stream",
     "text": [
      "0.39\n"
     ]
    }
   ],
   "source": [
    "grouped = (\n",
    "    train_transactions\n",
    "    .groupby(['shop_id', 'sku_id'], as_index=False)['cheque_id']\n",
    "    .count()\n",
    "    .sort_values(by=['shop_id', 'cheque_id'], ascending=[True, False])\n",
    ")\n",
    "tmp = grouped.groupby('shop_id').count().sort_values(by='sku_id')\n",
    "print(f\"{len(tmp[tmp['sku_id'] < 20]) / len(tmp):.2f}\")"
   ]
  },
  {
   "cell_type": "markdown",
   "id": "cf23e9e4-84d2-45c3-b01e-59ea973fa700",
   "metadata": {},
   "source": [
    "# Baseline v1.1"
   ]
  },
  {
   "cell_type": "markdown",
   "id": "64c8e64f-3455-4ed0-805b-6ceee9e6c4a7",
   "metadata": {},
   "source": [
    "Закодируем признаки sku с помощью фиктивных переменных, уменьшим размерность и для каждого товара найдём 20 ближайших соседей.\\\n",
    "С бинарными признаками хорошо справляется Multiple Correspondence Analysis, но в известных библиотеках он не имплементирован, поэтому использовать буду PCA."
   ]
  },
  {
   "cell_type": "code",
   "execution_count": 46,
   "id": "7986ab59-d784-4e48-904a-62448b09c536",
   "metadata": {},
   "outputs": [],
   "source": [
    "from sklearn.decomposition import PCA\n",
    "from sklearn.neighbors import NearestNeighbors\n",
    "\n",
    "\n",
    "encoded_sku_info = pd.get_dummies(\n",
    "    sku_info.set_index(['sku_id', 'full_name'])\n",
    ")\n",
    "\n",
    "pca = PCA(n_components=0.9, random_state=seed)\n",
    "transformed_sku_info = pca.fit_transform(encoded_sku_info)"
   ]
  },
  {
   "cell_type": "code",
   "execution_count": 47,
   "id": "d40b2b5f-562c-4829-b78c-c1a6bb3768d4",
   "metadata": {},
   "outputs": [
    {
     "data": {
      "text/plain": [
       "array([[-3.42940616e-01,  6.13119451e-01, -1.84935237e-01, ...,\n",
       "         4.10017042e-02, -4.05574996e-03,  5.06424093e-02],\n",
       "       [-3.97937921e-01,  4.08421559e-01,  6.82414058e-01, ...,\n",
       "         2.41943188e-03,  1.56011161e-03,  4.27835260e-03],\n",
       "       [-3.97937921e-01,  4.08421559e-01,  6.82414058e-01, ...,\n",
       "         2.41943188e-03,  1.56011161e-03,  4.27835260e-03],\n",
       "       ...,\n",
       "       [ 1.23683702e+00,  1.17080358e-03, -5.22479137e-01, ...,\n",
       "        -7.87965034e-03, -9.65114052e-03, -6.15350842e-03],\n",
       "       [ 1.23683702e+00,  1.17080358e-03, -5.22479137e-01, ...,\n",
       "        -7.87965034e-03, -9.65114052e-03, -6.15350842e-03],\n",
       "       [ 1.23683702e+00,  1.17080358e-03, -5.22479137e-01, ...,\n",
       "        -7.87965034e-03, -9.65114052e-03, -6.15350842e-03]])"
      ]
     },
     "execution_count": 47,
     "metadata": {},
     "output_type": "execute_result"
    }
   ],
   "source": [
    "transformed_sku_info"
   ]
  },
  {
   "cell_type": "code",
   "execution_count": 54,
   "id": "842ef359-dcd3-4408-afd3-2e11d85fb468",
   "metadata": {},
   "outputs": [
    {
     "data": {
      "text/html": [
       "<style>#sk-container-id-3 {color: black;background-color: white;}#sk-container-id-3 pre{padding: 0;}#sk-container-id-3 div.sk-toggleable {background-color: white;}#sk-container-id-3 label.sk-toggleable__label {cursor: pointer;display: block;width: 100%;margin-bottom: 0;padding: 0.3em;box-sizing: border-box;text-align: center;}#sk-container-id-3 label.sk-toggleable__label-arrow:before {content: \"▸\";float: left;margin-right: 0.25em;color: #696969;}#sk-container-id-3 label.sk-toggleable__label-arrow:hover:before {color: black;}#sk-container-id-3 div.sk-estimator:hover label.sk-toggleable__label-arrow:before {color: black;}#sk-container-id-3 div.sk-toggleable__content {max-height: 0;max-width: 0;overflow: hidden;text-align: left;background-color: #f0f8ff;}#sk-container-id-3 div.sk-toggleable__content pre {margin: 0.2em;color: black;border-radius: 0.25em;background-color: #f0f8ff;}#sk-container-id-3 input.sk-toggleable__control:checked~div.sk-toggleable__content {max-height: 200px;max-width: 100%;overflow: auto;}#sk-container-id-3 input.sk-toggleable__control:checked~label.sk-toggleable__label-arrow:before {content: \"▾\";}#sk-container-id-3 div.sk-estimator input.sk-toggleable__control:checked~label.sk-toggleable__label {background-color: #d4ebff;}#sk-container-id-3 div.sk-label input.sk-toggleable__control:checked~label.sk-toggleable__label {background-color: #d4ebff;}#sk-container-id-3 input.sk-hidden--visually {border: 0;clip: rect(1px 1px 1px 1px);clip: rect(1px, 1px, 1px, 1px);height: 1px;margin: -1px;overflow: hidden;padding: 0;position: absolute;width: 1px;}#sk-container-id-3 div.sk-estimator {font-family: monospace;background-color: #f0f8ff;border: 1px dotted black;border-radius: 0.25em;box-sizing: border-box;margin-bottom: 0.5em;}#sk-container-id-3 div.sk-estimator:hover {background-color: #d4ebff;}#sk-container-id-3 div.sk-parallel-item::after {content: \"\";width: 100%;border-bottom: 1px solid gray;flex-grow: 1;}#sk-container-id-3 div.sk-label:hover label.sk-toggleable__label {background-color: #d4ebff;}#sk-container-id-3 div.sk-serial::before {content: \"\";position: absolute;border-left: 1px solid gray;box-sizing: border-box;top: 0;bottom: 0;left: 50%;z-index: 0;}#sk-container-id-3 div.sk-serial {display: flex;flex-direction: column;align-items: center;background-color: white;padding-right: 0.2em;padding-left: 0.2em;position: relative;}#sk-container-id-3 div.sk-item {position: relative;z-index: 1;}#sk-container-id-3 div.sk-parallel {display: flex;align-items: stretch;justify-content: center;background-color: white;position: relative;}#sk-container-id-3 div.sk-item::before, #sk-container-id-3 div.sk-parallel-item::before {content: \"\";position: absolute;border-left: 1px solid gray;box-sizing: border-box;top: 0;bottom: 0;left: 50%;z-index: -1;}#sk-container-id-3 div.sk-parallel-item {display: flex;flex-direction: column;z-index: 1;position: relative;background-color: white;}#sk-container-id-3 div.sk-parallel-item:first-child::after {align-self: flex-end;width: 50%;}#sk-container-id-3 div.sk-parallel-item:last-child::after {align-self: flex-start;width: 50%;}#sk-container-id-3 div.sk-parallel-item:only-child::after {width: 0;}#sk-container-id-3 div.sk-dashed-wrapped {border: 1px dashed gray;margin: 0 0.4em 0.5em 0.4em;box-sizing: border-box;padding-bottom: 0.4em;background-color: white;}#sk-container-id-3 div.sk-label label {font-family: monospace;font-weight: bold;display: inline-block;line-height: 1.2em;}#sk-container-id-3 div.sk-label-container {text-align: center;}#sk-container-id-3 div.sk-container {/* jupyter's `normalize.less` sets `[hidden] { display: none; }` but bootstrap.min.css set `[hidden] { display: none !important; }` so we also need the `!important` here to be able to override the default hidden behavior on the sphinx rendered scikit-learn.org. See: https://github.com/scikit-learn/scikit-learn/issues/21755 */display: inline-block !important;position: relative;}#sk-container-id-3 div.sk-text-repr-fallback {display: none;}</style><div id=\"sk-container-id-3\" class=\"sk-top-container\"><div class=\"sk-text-repr-fallback\"><pre>NearestNeighbors(n_neighbors=21)</pre><b>In a Jupyter environment, please rerun this cell to show the HTML representation or trust the notebook. <br />On GitHub, the HTML representation is unable to render, please try loading this page with nbviewer.org.</b></div><div class=\"sk-container\" hidden><div class=\"sk-item\"><div class=\"sk-estimator sk-toggleable\"><input class=\"sk-toggleable__control sk-hidden--visually\" id=\"sk-estimator-id-3\" type=\"checkbox\" checked><label for=\"sk-estimator-id-3\" class=\"sk-toggleable__label sk-toggleable__label-arrow\">NearestNeighbors</label><div class=\"sk-toggleable__content\"><pre>NearestNeighbors(n_neighbors=21)</pre></div></div></div></div></div>"
      ],
      "text/plain": [
       "NearestNeighbors(n_neighbors=21)"
      ]
     },
     "execution_count": 54,
     "metadata": {},
     "output_type": "execute_result"
    }
   ],
   "source": [
    "neigh = NearestNeighbors(n_neighbors=21)\n",
    "neigh.fit(transformed_sku_info)"
   ]
  },
  {
   "cell_type": "code",
   "execution_count": 56,
   "id": "48d4c6f9-def5-4eee-9100-2b68912bacb2",
   "metadata": {},
   "outputs": [
    {
     "data": {
      "text/plain": [
       "array([[   0, 3143, 3135, ...,  982,  983, 2920],\n",
       "       [ 390,  421,  531, ..., 3054, 2673,    1],\n",
       "       [ 530,  423,  505, ..., 3054,  426,  390],\n",
       "       ...,\n",
       "       [5102, 4468, 4456, ..., 3552, 3256,  294],\n",
       "       [5102, 4468, 4456, ..., 3552, 3256,  294],\n",
       "       [5102, 4459, 4455, ..., 4824, 3450, 3221]])"
      ]
     },
     "execution_count": 56,
     "metadata": {},
     "output_type": "execute_result"
    }
   ],
   "source": [
    "neigh.kneighbors(transformed_sku_info, return_distance=False)"
   ]
  },
  {
   "cell_type": "code",
   "execution_count": null,
   "id": "aaa16b20-96b2-4665-bd51-b48a4fcae58f",
   "metadata": {},
   "outputs": [],
   "source": []
  }
 ],
 "metadata": {
  "kernelspec": {
   "display_name": "Python 3 (ipykernel)",
   "language": "python",
   "name": "python3"
  },
  "language_info": {
   "codemirror_mode": {
    "name": "ipython",
    "version": 3
   },
   "file_extension": ".py",
   "mimetype": "text/x-python",
   "name": "python",
   "nbconvert_exporter": "python",
   "pygments_lexer": "ipython3",
   "version": "3.10.6"
  },
  "toc-autonumbering": true
 },
 "nbformat": 4,
 "nbformat_minor": 5
}
