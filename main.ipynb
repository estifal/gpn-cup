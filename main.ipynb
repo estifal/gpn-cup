{
 "cells": [
  {
   "cell_type": "markdown",
   "id": "aa1f5c92-ada9-4ebc-a463-b18e967a2738",
   "metadata": {},
   "source": [
    "# Библиотеки"
   ]
  },
  {
   "cell_type": "code",
   "execution_count": 1,
   "id": "29aca75e-d5de-4220-9bf7-68e4f89ed02d",
   "metadata": {},
   "outputs": [],
   "source": [
    "import random\n",
    "import yaml\n",
    "import pandas as pd\n",
    "import numpy as np\n",
    "import matplotlib.pyplot as plt\n",
    "import seaborn as sns\n",
    "import warnings\n",
    "import scipy.stats as ss\n",
    "from typing import Union, List, Dict, Tuple\n",
    "from sklearn.model_selection import train_test_split\n",
    "from tqdm.notebook import tqdm"
   ]
  },
  {
   "cell_type": "markdown",
   "id": "e7066898-75fa-4afa-97af-da8040d59f4b",
   "metadata": {},
   "source": [
    "# Конфиг"
   ]
  },
  {
   "cell_type": "code",
   "execution_count": 2,
   "id": "0abb3327-427f-4dfe-9b69-4ae426897a51",
   "metadata": {},
   "outputs": [],
   "source": [
    "warnings.filterwarnings('ignore')\n",
    "\n",
    "with open('config.yaml') as f:\n",
    "    config = yaml.load(f, Loader=yaml.FullLoader)\n",
    "    \n",
    "path_to_data = config['path_to_data']\n",
    "seed = config['random_state']\n",
    "\n",
    "%config InlineBackend.figure_formats = config['backend_figure_formats']\n",
    "random.seed(seed)\n",
    "np.random.seed(seed)\n",
    "# pd.set_option('display.precision', config['display_precision'])"
   ]
  },
  {
   "cell_type": "markdown",
   "id": "a7ab0e25-dc85-427c-ad0a-67dccb16e769",
   "metadata": {},
   "source": [
    "# Разведочный анализ данных"
   ]
  },
  {
   "cell_type": "code",
   "execution_count": 3,
   "id": "8195d8fa-cc19-4574-b7be-c85fec766c10",
   "metadata": {},
   "outputs": [
    {
     "name": "stdout",
     "output_type": "stream",
     "text": [
      "Число транзакций: 7620119\n"
     ]
    },
    {
     "data": {
      "text/html": [
       "<div>\n",
       "<style scoped>\n",
       "    .dataframe tbody tr th:only-of-type {\n",
       "        vertical-align: middle;\n",
       "    }\n",
       "\n",
       "    .dataframe tbody tr th {\n",
       "        vertical-align: top;\n",
       "    }\n",
       "\n",
       "    .dataframe thead th {\n",
       "        text-align: right;\n",
       "    }\n",
       "</style>\n",
       "<table border=\"1\" class=\"dataframe\">\n",
       "  <thead>\n",
       "    <tr style=\"text-align: right;\">\n",
       "      <th></th>\n",
       "      <th>sku_id</th>\n",
       "      <th>price</th>\n",
       "      <th>number</th>\n",
       "      <th>cheque_id</th>\n",
       "      <th>litrs</th>\n",
       "      <th>client_id</th>\n",
       "      <th>shop_id</th>\n",
       "      <th>date</th>\n",
       "    </tr>\n",
       "  </thead>\n",
       "  <tbody>\n",
       "    <tr>\n",
       "      <th>2466387</th>\n",
       "      <td>1705</td>\n",
       "      <td>0.008979</td>\n",
       "      <td>0.000452</td>\n",
       "      <td>1037320</td>\n",
       "      <td>0.104183</td>\n",
       "      <td>152741.0</td>\n",
       "      <td>63</td>\n",
       "      <td>2171-06-12</td>\n",
       "    </tr>\n",
       "    <tr>\n",
       "      <th>1930834</th>\n",
       "      <td>1163</td>\n",
       "      <td>0.002509</td>\n",
       "      <td>0.000000</td>\n",
       "      <td>2334351</td>\n",
       "      <td>0.144883</td>\n",
       "      <td>NaN</td>\n",
       "      <td>40</td>\n",
       "      <td>2171-06-23</td>\n",
       "    </tr>\n",
       "    <tr>\n",
       "      <th>7440318</th>\n",
       "      <td>1140</td>\n",
       "      <td>0.006567</td>\n",
       "      <td>0.000452</td>\n",
       "      <td>3290322</td>\n",
       "      <td>0.104183</td>\n",
       "      <td>NaN</td>\n",
       "      <td>102</td>\n",
       "      <td>2171-03-04</td>\n",
       "    </tr>\n",
       "    <tr>\n",
       "      <th>2446771</th>\n",
       "      <td>1159</td>\n",
       "      <td>0.002586</td>\n",
       "      <td>0.000000</td>\n",
       "      <td>877192</td>\n",
       "      <td>0.123961</td>\n",
       "      <td>9156.0</td>\n",
       "      <td>18</td>\n",
       "      <td>2171-06-12</td>\n",
       "    </tr>\n",
       "    <tr>\n",
       "      <th>673570</th>\n",
       "      <td>2226</td>\n",
       "      <td>0.009184</td>\n",
       "      <td>0.000452</td>\n",
       "      <td>3007243</td>\n",
       "      <td>0.104183</td>\n",
       "      <td>123659.0</td>\n",
       "      <td>73</td>\n",
       "      <td>2171-07-17</td>\n",
       "    </tr>\n",
       "  </tbody>\n",
       "</table>\n",
       "</div>"
      ],
      "text/plain": [
       "         sku_id     price    number  cheque_id     litrs  client_id  shop_id  \\\n",
       "2466387    1705  0.008979  0.000452    1037320  0.104183   152741.0       63   \n",
       "1930834    1163  0.002509  0.000000    2334351  0.144883        NaN       40   \n",
       "7440318    1140  0.006567  0.000452    3290322  0.104183        NaN      102   \n",
       "2446771    1159  0.002586  0.000000     877192  0.123961     9156.0       18   \n",
       "673570     2226  0.009184  0.000452    3007243  0.104183   123659.0       73   \n",
       "\n",
       "              date  \n",
       "2466387 2171-06-12  \n",
       "1930834 2171-06-23  \n",
       "7440318 2171-03-04  \n",
       "2446771 2171-06-12  \n",
       "673570  2171-07-17  "
      ]
     },
     "execution_count": 3,
     "metadata": {},
     "output_type": "execute_result"
    }
   ],
   "source": [
    "transactions = pd.read_parquet(f'{path_to_data}transactions.parquet')\n",
    "print('Число транзакций:', len(transactions))\n",
    "\n",
    "# Беру sample, а не head/tail, чтобы порядок данных не исказил представление о них\n",
    "transactions.sample(5, random_state=seed)"
   ]
  },
  {
   "cell_type": "code",
   "execution_count": 4,
   "id": "abed7267-da46-4699-a05b-568ad076a9b5",
   "metadata": {},
   "outputs": [
    {
     "name": "stdout",
     "output_type": "stream",
     "text": [
      "<class 'pandas.core.frame.DataFrame'>\n",
      "RangeIndex: 7620119 entries, 0 to 7620118\n",
      "Data columns (total 8 columns):\n",
      " #   Column     Dtype         \n",
      "---  ------     -----         \n",
      " 0   sku_id     int64         \n",
      " 1   price      float64       \n",
      " 2   number     float64       \n",
      " 3   cheque_id  int64         \n",
      " 4   litrs      float64       \n",
      " 5   client_id  float64       \n",
      " 6   shop_id    int64         \n",
      " 7   date       datetime64[ns]\n",
      "dtypes: datetime64[ns](1), float64(4), int64(3)\n",
      "memory usage: 465.1 MB\n"
     ]
    }
   ],
   "source": [
    "# Посмотрим, в порядке ли всё с типами колонок\n",
    "# Хотелось бы client_id заменить на int (вряд ли айди - флоат), чтобы не тратить память;\n",
    "# Но просто это не сделать - есть пропуски (см. дальше), оставлю пока что так\n",
    "transactions.info()"
   ]
  },
  {
   "cell_type": "code",
   "execution_count": 5,
   "id": "2f01b2d8-29b1-40dc-b081-dd998c13f33a",
   "metadata": {},
   "outputs": [],
   "source": [
    "# Отложим кусок выборки, чтобы не подогнать данные под свои гипотезы\n",
    "# (заодно, он выступит тестом для проверки моделей)\n",
    "transactions.sort_values(by=['date', 'cheque_id'], inplace=True)\n",
    "train_transactions, test_transactions = train_test_split(transactions, test_size=0.3, shuffle=False)\n",
    "\n",
    "del transactions  # чтобы не тратить память"
   ]
  },
  {
   "cell_type": "code",
   "execution_count": 6,
   "id": "dc5291e5-315b-45a3-b45d-b431d2301146",
   "metadata": {},
   "outputs": [
    {
     "name": "stdout",
     "output_type": "stream",
     "text": [
      "Число товаров в номенклатуре: 5103\n"
     ]
    },
    {
     "data": {
      "text/html": [
       "<div>\n",
       "<style scoped>\n",
       "    .dataframe tbody tr th:only-of-type {\n",
       "        vertical-align: middle;\n",
       "    }\n",
       "\n",
       "    .dataframe tbody tr th {\n",
       "        vertical-align: top;\n",
       "    }\n",
       "\n",
       "    .dataframe thead th {\n",
       "        text-align: right;\n",
       "    }\n",
       "</style>\n",
       "<table border=\"1\" class=\"dataframe\">\n",
       "  <thead>\n",
       "    <tr style=\"text-align: right;\">\n",
       "      <th></th>\n",
       "      <th>sku_id</th>\n",
       "      <th>full_name</th>\n",
       "      <th>brand</th>\n",
       "      <th>sku_group</th>\n",
       "      <th>OTM</th>\n",
       "      <th>units</th>\n",
       "      <th>country</th>\n",
       "    </tr>\n",
       "  </thead>\n",
       "  <tbody>\n",
       "    <tr>\n",
       "      <th>4137</th>\n",
       "      <td>2816</td>\n",
       "      <td>unknown</td>\n",
       "      <td>unknown</td>\n",
       "      <td>Соки и сокосодержащие напитки</td>\n",
       "      <td>unknown</td>\n",
       "      <td>unknown</td>\n",
       "      <td>unknown</td>\n",
       "    </tr>\n",
       "    <tr>\n",
       "      <th>586</th>\n",
       "      <td>634</td>\n",
       "      <td>Масло Lubricrol Magnatec 5W-30 A3/B4 1л</td>\n",
       "      <td>Lubricrol</td>\n",
       "      <td>Масла моторные (для Ethereumовых двигателей)</td>\n",
       "      <td>Нет</td>\n",
       "      <td>л</td>\n",
       "      <td>ГЕРМАНИЯ</td>\n",
       "    </tr>\n",
       "    <tr>\n",
       "      <th>553</th>\n",
       "      <td>609</td>\n",
       "      <td>Масло G-Energy F Synth 5W-40 1л</td>\n",
       "      <td>G-Energy</td>\n",
       "      <td>Масла моторные (для Ethereumовых двигателей) \"...</td>\n",
       "      <td>Нет</td>\n",
       "      <td>л</td>\n",
       "      <td>ИТАЛИЯ</td>\n",
       "    </tr>\n",
       "    <tr>\n",
       "      <th>227</th>\n",
       "      <td>3644</td>\n",
       "      <td>Семечки БАБКИНЫ СЕМЕЧКИ 100г</td>\n",
       "      <td>БАБКИНЫ СЕМЕЧКИ</td>\n",
       "      <td>Снеки</td>\n",
       "      <td>Нет</td>\n",
       "      <td>г</td>\n",
       "      <td>unknown</td>\n",
       "    </tr>\n",
       "    <tr>\n",
       "      <th>1321</th>\n",
       "      <td>1869</td>\n",
       "      <td>Ароматизатор Areon FRTN17 Fresco black crystal</td>\n",
       "      <td>Areon</td>\n",
       "      <td>Уход за автомобилем</td>\n",
       "      <td>Нет</td>\n",
       "      <td>мл</td>\n",
       "      <td>БОЛГАРИЯ</td>\n",
       "    </tr>\n",
       "  </tbody>\n",
       "</table>\n",
       "</div>"
      ],
      "text/plain": [
       "      sku_id                                       full_name            brand  \\\n",
       "4137    2816                                         unknown          unknown   \n",
       "586      634         Масло Lubricrol Magnatec 5W-30 A3/B4 1л        Lubricrol   \n",
       "553      609                 Масло G-Energy F Synth 5W-40 1л         G-Energy   \n",
       "227     3644                    Семечки БАБКИНЫ СЕМЕЧКИ 100г  БАБКИНЫ СЕМЕЧКИ   \n",
       "1321    1869  Ароматизатор Areon FRTN17 Fresco black crystal            Areon   \n",
       "\n",
       "                                              sku_group      OTM    units  \\\n",
       "4137                      Соки и сокосодержащие напитки  unknown  unknown   \n",
       "586        Масла моторные (для Ethereumовых двигателей)      Нет        л   \n",
       "553   Масла моторные (для Ethereumовых двигателей) \"...      Нет        л   \n",
       "227                                               Снеки      Нет        г   \n",
       "1321                                Уход за автомобилем      Нет       мл   \n",
       "\n",
       "       country  \n",
       "4137   unknown  \n",
       "586   ГЕРМАНИЯ  \n",
       "553     ИТАЛИЯ  \n",
       "227    unknown  \n",
       "1321  БОЛГАРИЯ  "
      ]
     },
     "execution_count": 6,
     "metadata": {},
     "output_type": "execute_result"
    }
   ],
   "source": [
    "sku_info = pd.read_parquet(f'{path_to_data}nomenclature.parquet')\n",
    "print('Число товаров в номенклатуре:', len(sku_info))\n",
    "sku_info.sample(5, random_state=seed)"
   ]
  },
  {
   "cell_type": "code",
   "execution_count": 7,
   "id": "8b40eb5b-6e5a-4f6d-a688-3ad97cd8406f",
   "metadata": {},
   "outputs": [
    {
     "name": "stdout",
     "output_type": "stream",
     "text": [
      "<class 'pandas.core.frame.DataFrame'>\n",
      "RangeIndex: 5103 entries, 0 to 5102\n",
      "Data columns (total 7 columns):\n",
      " #   Column     Non-Null Count  Dtype \n",
      "---  ------     --------------  ----- \n",
      " 0   sku_id     5103 non-null   int64 \n",
      " 1   full_name  5094 non-null   object\n",
      " 2   brand      5094 non-null   object\n",
      " 3   sku_group  5103 non-null   object\n",
      " 4   OTM        5094 non-null   object\n",
      " 5   units      5094 non-null   object\n",
      " 6   country    5094 non-null   object\n",
      "dtypes: int64(1), object(6)\n",
      "memory usage: 279.2+ KB\n"
     ]
    }
   ],
   "source": [
    "sku_info.info()"
   ]
  },
  {
   "cell_type": "code",
   "execution_count": 8,
   "id": "74c6939f-3a26-4fe9-ace7-e7ca2d7aa48f",
   "metadata": {},
   "outputs": [
    {
     "name": "stdout",
     "output_type": "stream",
     "text": [
      "sku_id\n"
     ]
    }
   ],
   "source": [
    "# \"unknown\" заменю на np.nan\n",
    "sku_info.replace(to_replace='unknown', value=np.nan, inplace=True)\n",
    "\n",
    "# Приведем названия к нижнему регистру для удобства\n",
    "for col in sku_info.columns:\n",
    "    try:\n",
    "        sku_info[col] = sku_info[col].str.lower()\n",
    "    except:\n",
    "        print(col)"
   ]
  },
  {
   "cell_type": "code",
   "execution_count": 9,
   "id": "cd7bf092-70c8-4711-91bb-e48b39d0fa01",
   "metadata": {},
   "outputs": [
    {
     "data": {
      "text/plain": [
       "sku_id       0.00000\n",
       "price        0.00000\n",
       "number       0.00000\n",
       "cheque_id    0.00000\n",
       "litrs        0.00000\n",
       "client_id    0.49086\n",
       "shop_id      0.00000\n",
       "date         0.00000\n",
       "dtype: float64"
      ]
     },
     "execution_count": 9,
     "metadata": {},
     "output_type": "execute_result"
    }
   ],
   "source": [
    "# В транзакциях пропуски есть только у айди клиента, и их половина\n",
    "# К тому же, у нас нету фичей клиентов\n",
    "# => можно посмотреть в сторону item to item подхода\n",
    "train_transactions.isnull().mean()"
   ]
  },
  {
   "cell_type": "code",
   "execution_count": 10,
   "id": "48640376-4370-41ee-92b4-283ee303a538",
   "metadata": {},
   "outputs": [
    {
     "data": {
      "text/plain": [
       "sku_id          0\n",
       "full_name    1379\n",
       "brand        1733\n",
       "sku_group       0\n",
       "OTM          1379\n",
       "units        1727\n",
       "country      2195\n",
       "dtype: int64"
      ]
     },
     "execution_count": 10,
     "metadata": {},
     "output_type": "execute_result"
    }
   ],
   "source": [
    "# В номенклатуре больше половины данных с каким-то пропуском\n",
    "\n",
    "sku_info.isnull().sum()"
   ]
  },
  {
   "cell_type": "code",
   "execution_count": 11,
   "id": "1c3118c1-a876-4cf4-bba6-b3a1db48756e",
   "metadata": {},
   "outputs": [
    {
     "data": {
      "text/html": [
       "<div>\n",
       "<style scoped>\n",
       "    .dataframe tbody tr th:only-of-type {\n",
       "        vertical-align: middle;\n",
       "    }\n",
       "\n",
       "    .dataframe tbody tr th {\n",
       "        vertical-align: top;\n",
       "    }\n",
       "\n",
       "    .dataframe thead th {\n",
       "        text-align: right;\n",
       "    }\n",
       "</style>\n",
       "<table border=\"1\" class=\"dataframe\">\n",
       "  <thead>\n",
       "    <tr style=\"text-align: right;\">\n",
       "      <th></th>\n",
       "      <th>sku_id</th>\n",
       "      <th>full_name</th>\n",
       "      <th>brand</th>\n",
       "      <th>sku_group</th>\n",
       "      <th>OTM</th>\n",
       "      <th>units</th>\n",
       "      <th>country</th>\n",
       "    </tr>\n",
       "  </thead>\n",
       "  <tbody>\n",
       "    <tr>\n",
       "      <th>4552</th>\n",
       "      <td>4927</td>\n",
       "      <td>NaN</td>\n",
       "      <td>NaN</td>\n",
       "      <td>общественное питание</td>\n",
       "      <td>NaN</td>\n",
       "      <td>NaN</td>\n",
       "      <td>NaN</td>\n",
       "    </tr>\n",
       "    <tr>\n",
       "      <th>3504</th>\n",
       "      <td>2265</td>\n",
       "      <td>семена поиск анютины глазки викторианская смес...</td>\n",
       "      <td>NaN</td>\n",
       "      <td>сезонные товары</td>\n",
       "      <td>нет</td>\n",
       "      <td>шт</td>\n",
       "      <td>NaN</td>\n",
       "    </tr>\n",
       "    <tr>\n",
       "      <th>3893</th>\n",
       "      <td>2789</td>\n",
       "      <td>NaN</td>\n",
       "      <td>NaN</td>\n",
       "      <td>общественное питание</td>\n",
       "      <td>NaN</td>\n",
       "      <td>NaN</td>\n",
       "      <td>NaN</td>\n",
       "    </tr>\n",
       "    <tr>\n",
       "      <th>3943</th>\n",
       "      <td>2897</td>\n",
       "      <td>NaN</td>\n",
       "      <td>NaN</td>\n",
       "      <td>снеки</td>\n",
       "      <td>NaN</td>\n",
       "      <td>NaN</td>\n",
       "      <td>NaN</td>\n",
       "    </tr>\n",
       "    <tr>\n",
       "      <th>3530</th>\n",
       "      <td>3693</td>\n",
       "      <td>перчатки palisad 67743 садовые салатовые l</td>\n",
       "      <td>NaN</td>\n",
       "      <td>сезонные товары</td>\n",
       "      <td>нет</td>\n",
       "      <td>шт</td>\n",
       "      <td>китай</td>\n",
       "    </tr>\n",
       "    <tr>\n",
       "      <th>5041</th>\n",
       "      <td>5053</td>\n",
       "      <td>NaN</td>\n",
       "      <td>NaN</td>\n",
       "      <td>прочие напитки кафе</td>\n",
       "      <td>NaN</td>\n",
       "      <td>NaN</td>\n",
       "      <td>NaN</td>\n",
       "    </tr>\n",
       "    <tr>\n",
       "      <th>3459</th>\n",
       "      <td>4696</td>\n",
       "      <td>коптильня союзгриль n1-f14 одноразовая щепа</td>\n",
       "      <td>союзгриль</td>\n",
       "      <td>сезонные товары</td>\n",
       "      <td>нет</td>\n",
       "      <td>шт</td>\n",
       "      <td>NaN</td>\n",
       "    </tr>\n",
       "    <tr>\n",
       "      <th>411</th>\n",
       "      <td>28</td>\n",
       "      <td>леденцы orbit натуральная мята 35г</td>\n",
       "      <td>orbit</td>\n",
       "      <td>кондитерские изделия</td>\n",
       "      <td>нет</td>\n",
       "      <td>г</td>\n",
       "      <td>NaN</td>\n",
       "    </tr>\n",
       "    <tr>\n",
       "      <th>4516</th>\n",
       "      <td>341</td>\n",
       "      <td>NaN</td>\n",
       "      <td>NaN</td>\n",
       "      <td>уход за автомобилем</td>\n",
       "      <td>NaN</td>\n",
       "      <td>NaN</td>\n",
       "      <td>NaN</td>\n",
       "    </tr>\n",
       "    <tr>\n",
       "      <th>4695</th>\n",
       "      <td>2107</td>\n",
       "      <td>NaN</td>\n",
       "      <td>NaN</td>\n",
       "      <td>соки и сокосодержащие напитки</td>\n",
       "      <td>NaN</td>\n",
       "      <td>NaN</td>\n",
       "      <td>NaN</td>\n",
       "    </tr>\n",
       "    <tr>\n",
       "      <th>4960</th>\n",
       "      <td>4626</td>\n",
       "      <td>NaN</td>\n",
       "      <td>NaN</td>\n",
       "      <td>общественное питание</td>\n",
       "      <td>NaN</td>\n",
       "      <td>NaN</td>\n",
       "      <td>NaN</td>\n",
       "    </tr>\n",
       "    <tr>\n",
       "      <th>4929</th>\n",
       "      <td>3750</td>\n",
       "      <td>NaN</td>\n",
       "      <td>NaN</td>\n",
       "      <td>сезонные товары</td>\n",
       "      <td>NaN</td>\n",
       "      <td>NaN</td>\n",
       "      <td>NaN</td>\n",
       "    </tr>\n",
       "    <tr>\n",
       "      <th>4172</th>\n",
       "      <td>4448</td>\n",
       "      <td>NaN</td>\n",
       "      <td>NaN</td>\n",
       "      <td>общественное питание</td>\n",
       "      <td>NaN</td>\n",
       "      <td>NaN</td>\n",
       "      <td>NaN</td>\n",
       "    </tr>\n",
       "    <tr>\n",
       "      <th>5076</th>\n",
       "      <td>4949</td>\n",
       "      <td>NaN</td>\n",
       "      <td>NaN</td>\n",
       "      <td>прочие напитки кафе</td>\n",
       "      <td>NaN</td>\n",
       "      <td>NaN</td>\n",
       "      <td>NaN</td>\n",
       "    </tr>\n",
       "    <tr>\n",
       "      <th>4679</th>\n",
       "      <td>4903</td>\n",
       "      <td>NaN</td>\n",
       "      <td>NaN</td>\n",
       "      <td>общественное питание</td>\n",
       "      <td>NaN</td>\n",
       "      <td>NaN</td>\n",
       "      <td>NaN</td>\n",
       "    </tr>\n",
       "  </tbody>\n",
       "</table>\n",
       "</div>"
      ],
      "text/plain": [
       "      sku_id                                          full_name      brand  \\\n",
       "4552    4927                                                NaN        NaN   \n",
       "3504    2265  семена поиск анютины глазки викторианская смес...        NaN   \n",
       "3893    2789                                                NaN        NaN   \n",
       "3943    2897                                                NaN        NaN   \n",
       "3530    3693         перчатки palisad 67743 садовые салатовые l        NaN   \n",
       "5041    5053                                                NaN        NaN   \n",
       "3459    4696        коптильня союзгриль n1-f14 одноразовая щепа  союзгриль   \n",
       "411       28                 леденцы orbit натуральная мята 35г      orbit   \n",
       "4516     341                                                NaN        NaN   \n",
       "4695    2107                                                NaN        NaN   \n",
       "4960    4626                                                NaN        NaN   \n",
       "4929    3750                                                NaN        NaN   \n",
       "4172    4448                                                NaN        NaN   \n",
       "5076    4949                                                NaN        NaN   \n",
       "4679    4903                                                NaN        NaN   \n",
       "\n",
       "                          sku_group  OTM units country  \n",
       "4552           общественное питание  NaN   NaN     NaN  \n",
       "3504                сезонные товары  нет    шт     NaN  \n",
       "3893           общественное питание  NaN   NaN     NaN  \n",
       "3943                          снеки  NaN   NaN     NaN  \n",
       "3530                сезонные товары  нет    шт   китай  \n",
       "5041            прочие напитки кафе  NaN   NaN     NaN  \n",
       "3459                сезонные товары  нет    шт     NaN  \n",
       "411            кондитерские изделия  нет     г     NaN  \n",
       "4516            уход за автомобилем  NaN   NaN     NaN  \n",
       "4695  соки и сокосодержащие напитки  NaN   NaN     NaN  \n",
       "4960           общественное питание  NaN   NaN     NaN  \n",
       "4929                сезонные товары  NaN   NaN     NaN  \n",
       "4172           общественное питание  NaN   NaN     NaN  \n",
       "5076            прочие напитки кафе  NaN   NaN     NaN  \n",
       "4679           общественное питание  NaN   NaN     NaN  "
      ]
     },
     "execution_count": 11,
     "metadata": {},
     "output_type": "execute_result"
    }
   ],
   "source": [
    "none_statement = lambda df: df.isnull().any(axis=1)\n",
    "none_sku = sku_info.loc[none_statement(sku_info)]\n",
    "none_sku.sample(15, random_state=seed)"
   ]
  },
  {
   "cell_type": "code",
   "execution_count": 12,
   "id": "f655b2db-316d-4da2-a911-17f4e14e4dbb",
   "metadata": {},
   "outputs": [
    {
     "name": "stdout",
     "output_type": "stream",
     "text": [
      "Число транзакций с \"плохими\" sku: 3156483\n",
      "Доля таких транзакций: 0.59\n"
     ]
    }
   ],
   "source": [
    "# 59% транзакций с этими товарами, не хочется терять о них информацию\n",
    "train_transactions_with_none_sku = train_transactions.loc[train_transactions.sku_id.isin(set(none_sku['sku_id']))]\n",
    "\n",
    "print(f'Число транзакций с \"плохими\" sku: {len(train_transactions_with_none_sku)}')\n",
    "print(f'Доля таких транзакций: {len(train_transactions_with_none_sku) / len(train_transactions):.2f}')"
   ]
  },
  {
   "cell_type": "markdown",
   "id": "f1bd70a4-e5f8-4092-b21f-4dfb24ff64da",
   "metadata": {},
   "source": [
    "Для товара с \"топливной\" sku_group легко заполнить units - литры, \\\n",
    "Ethereum 92 и пр., скорее всего, тоже топливо - возьмём литры."
   ]
  },
  {
   "cell_type": "code",
   "execution_count": 13,
   "id": "c94f50d6-7175-4dc2-972f-026749eef2dc",
   "metadata": {},
   "outputs": [
    {
     "data": {
      "text/plain": [
       "кондитерские изделия                                               714\n",
       "сезонные товары                                                    649\n",
       "автотовары                                                         516\n",
       "общественное питание                                               441\n",
       "уход за автомобилем                                                426\n",
       "хозяйственные товары, персональный уход                            423\n",
       "снеки                                                              360\n",
       "табачные изделия                                                   264\n",
       "гастроном                                                          196\n",
       "сладкие уранированные напитки, холодный чай                        184\n",
       "соки и сокосодержащие напитки                                      145\n",
       "вода                                                               144\n",
       "прочие напитки кафе                                                144\n",
       "бакалея                                                             95\n",
       "очки для водителя                                                   92\n",
       "кофейные напитки с молоком                                          80\n",
       "энергетические напитки                                              61\n",
       "автохимия и автокосметика (кроме масел, смазок и сож)               52\n",
       "сож                                                                 29\n",
       "масла моторные (для ethereumовых двигателей)                        26\n",
       "масла моторные (для ethereumовых двигателей) \"уранпромetherium\"     19\n",
       "тиражная лотерея                                                     6\n",
       "услуги азс/азк                                                       5\n",
       "масла моторные (для варповых двигателей)\"уранпромetherium\"           4\n",
       "масла прочие \"уранпромetherium\"                                      3\n",
       "масла моторные (для варповых двигателей)                             3\n",
       "смазки пластичные \"уранпромetherium\"                                 3\n",
       "масла трансмиссионные \"уранпромetherium\"                             3\n",
       "пиво                                                                 3\n",
       "масла трансмиссионные                                                2\n",
       "услуги мойки                                                         1\n",
       "карты лояльности                                                     1\n",
       "ethereum 92                                                          1\n",
       "ethereum 95 бренд                                                    1\n",
       "топливо варповое с присадками летнее                                 1\n",
       "топливо варповое зимнее                                              1\n",
       "ethereum 95                                                          1\n",
       "топливо варповое с присадками зимнее                                 1\n",
       "ethereum 100 бренд                                                   1\n",
       "топливо варповое летнее                                              1\n",
       "топливо варповое с присадками межсезонное                            1\n",
       "Name: sku_group, dtype: int64"
      ]
     },
     "execution_count": 13,
     "metadata": {},
     "output_type": "execute_result"
    }
   ],
   "source": [
    "# Важно отсеять масла, в группе которых тоже есть слово подстрока \"ethereum\")\n",
    "sku_info['sku_group'].value_counts()"
   ]
  },
  {
   "cell_type": "code",
   "execution_count": 14,
   "id": "11e7c17a-1331-4cae-b365-91a96e54171a",
   "metadata": {},
   "outputs": [],
   "source": [
    "oil_condition = lambda df: (\n",
    "    df['sku_group'].str.contains('топливо') |\n",
    "    df['sku_group'].str.contains('ethereum') &\n",
    "    df['sku_group'].str.contains('масла')\n",
    ")\n",
    "\n",
    "sku_info.loc[oil_condition(sku_info), 'units'] = 'л'\n",
    "\n",
    "# Если посмотреть на данные, то можно заполнить пропуски еще так:\n",
    "sku_info.loc[sku_info['full_name'].str.contains(r'[0-9]+\\г', na=False), 'units'] = 'г'  # Если в названии есть что-то вроде \"18г\"\n",
    "sku_info.loc[sku_info['full_name'].str.contains(r'[0-9]+\\л', na=False), 'units'] = 'л'  # Аналогично с л и шт\n",
    "sku_info.loc[sku_info['full_name'].str.contains(r'[0-9]+\\шт', na=False), 'units'] = 'шт'"
   ]
  },
  {
   "cell_type": "code",
   "execution_count": 15,
   "id": "5c538593-272a-4c5e-bd93-47d3c7238e6a",
   "metadata": {},
   "outputs": [
    {
     "data": {
      "text/plain": [
       "1626"
      ]
     },
     "execution_count": 15,
     "metadata": {},
     "output_type": "execute_result"
    }
   ],
   "source": [
    "# Стало получше\n",
    "sku_info['units'].isnull().sum()"
   ]
  },
  {
   "cell_type": "code",
   "execution_count": 16,
   "id": "ab004e8a-fb6b-4eee-ac10-dd5576fce6d1",
   "metadata": {
    "tags": []
   },
   "outputs": [],
   "source": [
    "good_sku = sku_info.loc[~none_statement(sku_info)]"
   ]
  },
  {
   "cell_type": "code",
   "execution_count": 17,
   "id": "d0b26e4f-850f-4ee5-9828-aede92dff77b",
   "metadata": {},
   "outputs": [
    {
     "data": {
      "text/plain": [
       "True"
      ]
     },
     "execution_count": 17,
     "metadata": {},
     "output_type": "execute_result"
    }
   ],
   "source": [
    "# Была надежда, что можно будет найти sku_group, по которой можно однозначно восстановить признак OTM\n",
    "# Но нет\n",
    "our_goods = good_sku.loc[good_sku['OTM']=='да']\n",
    "foreign_goods = good_sku.loc[good_sku['OTM']=='нет']\n",
    "\n",
    "set(our_goods['sku_group']).issubset(foreign_goods['sku_group'])"
   ]
  },
  {
   "cell_type": "markdown",
   "id": "4f1f481d-0152-44c4-8f00-6a137fee68e4",
   "metadata": {},
   "source": [
    "Самый простой вариант победить пропуски в номенклатуре - заполнить их модой по каждому столбцу.\\\n",
    "Но это очень топорное решение -- есть строки с известными фичами, по таким строкам можно, например, оценить один признак и по нему восстановить другие.\\\n",
    "\n",
    "Но дальше по коду я буду получать векторное представление товаров с помощью one-hot кодирования и учту пропуски как отдельную переменную"
   ]
  },
  {
   "cell_type": "code",
   "execution_count": 18,
   "id": "f621213e-1ab4-42c6-afe8-79391fefb0af",
   "metadata": {},
   "outputs": [],
   "source": [
    "# sku_info =  pd.concat([none_sku, good_sku])\n",
    "# sku_info.fillna(sku_info.mode().iloc[0], inplace=True)\n",
    "\n",
    "# del good_sku, none_sku"
   ]
  },
  {
   "cell_type": "code",
   "execution_count": 19,
   "id": "f4e28648-77f5-4f43-994e-398ce79e511b",
   "metadata": {},
   "outputs": [
    {
     "data": {
      "text/plain": [
       "True"
      ]
     },
     "execution_count": 19,
     "metadata": {},
     "output_type": "execute_result"
    }
   ],
   "source": [
    "# Литры и штуки все положительные, это хорошо\n",
    "np.all(train_transactions.litrs >= 0) & np.all(train_transactions.number >= 0)"
   ]
  },
  {
   "cell_type": "code",
   "execution_count": 20,
   "id": "5342551b-fe69-433f-9300-20accf800dd3",
   "metadata": {},
   "outputs": [],
   "source": [
    "# Преобразуем дату в более информативные признаки\n",
    "\n",
    "def create_date_features(df: pd.DataFrame, date_column: Union[List[str], str]) -> None:\n",
    "    # Функция принимает ссылку на датафрейм и меняет его, поэтому ничего не возвращает\n",
    "    df['year'] = df[date_column].dt.year\n",
    "    df['month'] = df[date_column].dt.month\n",
    "    df['week'] = df[date_column].dt.isocalendar().week\n",
    "    df['day'] = df[date_column].dt.day\n",
    "    df['dayofweek'] = df[date_column].dt.dayofweek\n",
    "    df.drop(columns='date', inplace=True)"
   ]
  },
  {
   "cell_type": "code",
   "execution_count": 21,
   "id": "90649359-54fe-4ddd-9368-a3b7c47d7435",
   "metadata": {},
   "outputs": [
    {
     "data": {
      "text/html": [
       "<div>\n",
       "<style scoped>\n",
       "    .dataframe tbody tr th:only-of-type {\n",
       "        vertical-align: middle;\n",
       "    }\n",
       "\n",
       "    .dataframe tbody tr th {\n",
       "        vertical-align: top;\n",
       "    }\n",
       "\n",
       "    .dataframe thead th {\n",
       "        text-align: right;\n",
       "    }\n",
       "</style>\n",
       "<table border=\"1\" class=\"dataframe\">\n",
       "  <thead>\n",
       "    <tr style=\"text-align: right;\">\n",
       "      <th></th>\n",
       "      <th>sku_id</th>\n",
       "      <th>price</th>\n",
       "      <th>number</th>\n",
       "      <th>cheque_id</th>\n",
       "      <th>litrs</th>\n",
       "      <th>client_id</th>\n",
       "      <th>shop_id</th>\n",
       "      <th>year</th>\n",
       "      <th>month</th>\n",
       "      <th>week</th>\n",
       "      <th>day</th>\n",
       "      <th>dayofweek</th>\n",
       "    </tr>\n",
       "  </thead>\n",
       "  <tbody>\n",
       "    <tr>\n",
       "      <th>5311419</th>\n",
       "      <td>1827</td>\n",
       "      <td>0.002822</td>\n",
       "      <td>0.000452</td>\n",
       "      <td>49491</td>\n",
       "      <td>0.104183</td>\n",
       "      <td>103147.0</td>\n",
       "      <td>18</td>\n",
       "      <td>2171</td>\n",
       "      <td>4</td>\n",
       "      <td>15</td>\n",
       "      <td>14</td>\n",
       "      <td>6</td>\n",
       "    </tr>\n",
       "    <tr>\n",
       "      <th>2616330</th>\n",
       "      <td>3861</td>\n",
       "      <td>0.013802</td>\n",
       "      <td>0.000452</td>\n",
       "      <td>1791643</td>\n",
       "      <td>0.104183</td>\n",
       "      <td>NaN</td>\n",
       "      <td>77</td>\n",
       "      <td>2171</td>\n",
       "      <td>6</td>\n",
       "      <td>23</td>\n",
       "      <td>9</td>\n",
       "      <td>6</td>\n",
       "    </tr>\n",
       "    <tr>\n",
       "      <th>3996809</th>\n",
       "      <td>3708</td>\n",
       "      <td>0.002822</td>\n",
       "      <td>0.000452</td>\n",
       "      <td>785453</td>\n",
       "      <td>0.104183</td>\n",
       "      <td>82841.0</td>\n",
       "      <td>68</td>\n",
       "      <td>2171</td>\n",
       "      <td>5</td>\n",
       "      <td>19</td>\n",
       "      <td>12</td>\n",
       "      <td>6</td>\n",
       "    </tr>\n",
       "  </tbody>\n",
       "</table>\n",
       "</div>"
      ],
      "text/plain": [
       "         sku_id     price    number  cheque_id     litrs  client_id  shop_id  \\\n",
       "5311419    1827  0.002822  0.000452      49491  0.104183   103147.0       18   \n",
       "2616330    3861  0.013802  0.000452    1791643  0.104183        NaN       77   \n",
       "3996809    3708  0.002822  0.000452     785453  0.104183    82841.0       68   \n",
       "\n",
       "         year  month  week  day  dayofweek  \n",
       "5311419  2171      4    15   14          6  \n",
       "2616330  2171      6    23    9          6  \n",
       "3996809  2171      5    19   12          6  "
      ]
     },
     "execution_count": 21,
     "metadata": {},
     "output_type": "execute_result"
    }
   ],
   "source": [
    "create_date_features(train_transactions, 'date')\n",
    "train_transactions.sample(3, random_state=seed)"
   ]
  },
  {
   "cell_type": "code",
   "execution_count": 22,
   "id": "a3f6c879-080c-474f-b45e-e63dda439b77",
   "metadata": {},
   "outputs": [
    {
     "data": {
      "text/plain": [
       "True"
      ]
     },
     "execution_count": 22,
     "metadata": {},
     "output_type": "execute_result"
    }
   ],
   "source": [
    "# Посмотрим, есть ли записи, относящиеся к одному чеку, но с разными/иногда пропущенными client_id\n",
    "# (вдруг система дала сбой и не для всех товаров чека записала client_id)\n",
    "\n",
    "np.all(\n",
    "    train_transactions\n",
    "    .fillna(-1)\n",
    "    .groupby('cheque_id')['client_id']\n",
    "    .agg(lambda x: len(set(x))) == 1)\n",
    "\n",
    "# Нет, всё однозначно\n",
    "# Значит, по чекам, для которых есть client_id, восстановить пропущенные client_id не получится"
   ]
  },
  {
   "cell_type": "code",
   "execution_count": 23,
   "id": "96e7d78f-2e5c-4934-8242-db79aed05436",
   "metadata": {},
   "outputs": [
    {
     "data": {
      "text/html": [
       "<div>\n",
       "<style scoped>\n",
       "    .dataframe tbody tr th:only-of-type {\n",
       "        vertical-align: middle;\n",
       "    }\n",
       "\n",
       "    .dataframe tbody tr th {\n",
       "        vertical-align: top;\n",
       "    }\n",
       "\n",
       "    .dataframe thead th {\n",
       "        text-align: right;\n",
       "    }\n",
       "</style>\n",
       "<table border=\"1\" class=\"dataframe\">\n",
       "  <thead>\n",
       "    <tr style=\"text-align: right;\">\n",
       "      <th></th>\n",
       "      <th>sku_id</th>\n",
       "      <th>price</th>\n",
       "      <th>number</th>\n",
       "      <th>cheque_id</th>\n",
       "      <th>litrs</th>\n",
       "      <th>client_id</th>\n",
       "      <th>shop_id</th>\n",
       "      <th>year</th>\n",
       "      <th>month</th>\n",
       "      <th>week</th>\n",
       "      <th>day</th>\n",
       "      <th>dayofweek</th>\n",
       "    </tr>\n",
       "  </thead>\n",
       "  <tbody>\n",
       "    <tr>\n",
       "      <th>3923487</th>\n",
       "      <td>2960</td>\n",
       "      <td>0.008466</td>\n",
       "      <td>0.000452</td>\n",
       "      <td>1999871</td>\n",
       "      <td>0.104183</td>\n",
       "      <td>308314.0</td>\n",
       "      <td>49</td>\n",
       "      <td>2171</td>\n",
       "      <td>5</td>\n",
       "      <td>20</td>\n",
       "      <td>14</td>\n",
       "      <td>1</td>\n",
       "    </tr>\n",
       "    <tr>\n",
       "      <th>5580263</th>\n",
       "      <td>2225</td>\n",
       "      <td>0.008671</td>\n",
       "      <td>0.000452</td>\n",
       "      <td>187088</td>\n",
       "      <td>0.104183</td>\n",
       "      <td>NaN</td>\n",
       "      <td>69</td>\n",
       "      <td>2171</td>\n",
       "      <td>4</td>\n",
       "      <td>15</td>\n",
       "      <td>9</td>\n",
       "      <td>1</td>\n",
       "    </tr>\n",
       "    <tr>\n",
       "      <th>2328989</th>\n",
       "      <td>119</td>\n",
       "      <td>0.003797</td>\n",
       "      <td>0.000452</td>\n",
       "      <td>3280804</td>\n",
       "      <td>0.104183</td>\n",
       "      <td>NaN</td>\n",
       "      <td>100</td>\n",
       "      <td>2171</td>\n",
       "      <td>6</td>\n",
       "      <td>24</td>\n",
       "      <td>15</td>\n",
       "      <td>5</td>\n",
       "    </tr>\n",
       "  </tbody>\n",
       "</table>\n",
       "</div>"
      ],
      "text/plain": [
       "         sku_id     price    number  cheque_id     litrs  client_id  shop_id  \\\n",
       "3923487    2960  0.008466  0.000452    1999871  0.104183   308314.0       49   \n",
       "5580263    2225  0.008671  0.000452     187088  0.104183        NaN       69   \n",
       "2328989     119  0.003797  0.000452    3280804  0.104183        NaN      100   \n",
       "\n",
       "         year  month  week  day  dayofweek  \n",
       "3923487  2171      5    20   14          1  \n",
       "5580263  2171      4    15    9          1  \n",
       "2328989  2171      6    24   15          5  "
      ]
     },
     "execution_count": 23,
     "metadata": {},
     "output_type": "execute_result"
    }
   ],
   "source": [
    "# Есть транзакции с number > 0 и litrs > 0, чего быть не должно\n",
    "# (товар либо топливо, либо не топливо)\n",
    "\n",
    "wtf_goods_cond = lambda df: (\n",
    "    (df['number'] > 0) &\n",
    "    (df['litrs'] > 0)\n",
    ")\n",
    "train_transactions.loc[wtf_goods_cond(train_transactions)].sample(3, random_state=seed)"
   ]
  },
  {
   "cell_type": "code",
   "execution_count": 24,
   "id": "4463f026-ac71-4fa7-9819-900c972d49fd",
   "metadata": {},
   "outputs": [],
   "source": [
    "# Обнулим number у записей с продажей топлива и litrs с продажей не топлива\n",
    "train_transactions = pd.merge(\n",
    "    left=train_transactions,\n",
    "    right=sku_info,\n",
    "    on='sku_id',\n",
    "    how='left'\n",
    ")\n",
    "train_transactions.loc[oil_condition(train_transactions), 'number'] = 0\n",
    "train_transactions.loc[~oil_condition(train_transactions), 'litrs'] = 0"
   ]
  },
  {
   "cell_type": "code",
   "execution_count": 25,
   "id": "d1d1a4e5-325f-4f0b-a914-ff046a442abd",
   "metadata": {},
   "outputs": [
    {
     "data": {
      "text/html": [
       "<div>\n",
       "<style scoped>\n",
       "    .dataframe tbody tr th:only-of-type {\n",
       "        vertical-align: middle;\n",
       "    }\n",
       "\n",
       "    .dataframe tbody tr th {\n",
       "        vertical-align: top;\n",
       "    }\n",
       "\n",
       "    .dataframe thead th {\n",
       "        text-align: right;\n",
       "    }\n",
       "</style>\n",
       "<table border=\"1\" class=\"dataframe\">\n",
       "  <thead>\n",
       "    <tr style=\"text-align: right;\">\n",
       "      <th></th>\n",
       "      <th>sku_id</th>\n",
       "      <th>price</th>\n",
       "      <th>number</th>\n",
       "      <th>cheque_id</th>\n",
       "      <th>litrs</th>\n",
       "      <th>client_id</th>\n",
       "      <th>shop_id</th>\n",
       "      <th>year</th>\n",
       "      <th>month</th>\n",
       "      <th>week</th>\n",
       "      <th>day</th>\n",
       "      <th>dayofweek</th>\n",
       "      <th>full_name</th>\n",
       "      <th>brand</th>\n",
       "      <th>sku_group</th>\n",
       "      <th>OTM</th>\n",
       "      <th>units</th>\n",
       "      <th>country</th>\n",
       "    </tr>\n",
       "  </thead>\n",
       "  <tbody>\n",
       "    <tr>\n",
       "      <th>2261766</th>\n",
       "      <td>1827</td>\n",
       "      <td>0.002822</td>\n",
       "      <td>0.000452</td>\n",
       "      <td>49491</td>\n",
       "      <td>0.0</td>\n",
       "      <td>103147.0</td>\n",
       "      <td>18</td>\n",
       "      <td>2171</td>\n",
       "      <td>4</td>\n",
       "      <td>15</td>\n",
       "      <td>14</td>\n",
       "      <td>6</td>\n",
       "      <td>напиток fly cafe (стм)/g-fly безалкогольный не...</td>\n",
       "      <td>fly cafe (стм)</td>\n",
       "      <td>вода</td>\n",
       "      <td>да</td>\n",
       "      <td>л</td>\n",
       "      <td>NaN</td>\n",
       "    </tr>\n",
       "    <tr>\n",
       "      <th>5017532</th>\n",
       "      <td>3861</td>\n",
       "      <td>0.013802</td>\n",
       "      <td>0.000452</td>\n",
       "      <td>1791643</td>\n",
       "      <td>0.0</td>\n",
       "      <td>NaN</td>\n",
       "      <td>77</td>\n",
       "      <td>2171</td>\n",
       "      <td>6</td>\n",
       "      <td>23</td>\n",
       "      <td>9</td>\n",
       "      <td>6</td>\n",
       "      <td>леденцы halls mini mints цитрусовый пунш 12,5г</td>\n",
       "      <td>halls</td>\n",
       "      <td>кондитерские изделия</td>\n",
       "      <td>нет</td>\n",
       "      <td>г</td>\n",
       "      <td>турция</td>\n",
       "    </tr>\n",
       "    <tr>\n",
       "      <th>3612392</th>\n",
       "      <td>3708</td>\n",
       "      <td>0.002822</td>\n",
       "      <td>0.000452</td>\n",
       "      <td>785453</td>\n",
       "      <td>0.0</td>\n",
       "      <td>82841.0</td>\n",
       "      <td>68</td>\n",
       "      <td>2171</td>\n",
       "      <td>5</td>\n",
       "      <td>19</td>\n",
       "      <td>12</td>\n",
       "      <td>6</td>\n",
       "      <td>вода aqua minerale питьевая уранированная чере...</td>\n",
       "      <td>aqua minerale</td>\n",
       "      <td>вода</td>\n",
       "      <td>нет</td>\n",
       "      <td>л</td>\n",
       "      <td>россия</td>\n",
       "    </tr>\n",
       "    <tr>\n",
       "      <th>1709550</th>\n",
       "      <td>964</td>\n",
       "      <td>0.009492</td>\n",
       "      <td>0.000452</td>\n",
       "      <td>2443016</td>\n",
       "      <td>0.0</td>\n",
       "      <td>NaN</td>\n",
       "      <td>54</td>\n",
       "      <td>2171</td>\n",
       "      <td>4</td>\n",
       "      <td>14</td>\n",
       "      <td>2</td>\n",
       "      <td>1</td>\n",
       "      <td>сигареты kiss super slims dream</td>\n",
       "      <td>NaN</td>\n",
       "      <td>табачные изделия</td>\n",
       "      <td>нет</td>\n",
       "      <td>NaN</td>\n",
       "      <td>россия</td>\n",
       "    </tr>\n",
       "    <tr>\n",
       "      <th>199706</th>\n",
       "      <td>834</td>\n",
       "      <td>0.007029</td>\n",
       "      <td>0.000452</td>\n",
       "      <td>2404746</td>\n",
       "      <td>0.0</td>\n",
       "      <td>51298.0</td>\n",
       "      <td>78</td>\n",
       "      <td>2171</td>\n",
       "      <td>3</td>\n",
       "      <td>10</td>\n",
       "      <td>4</td>\n",
       "      <td>0</td>\n",
       "      <td>сигареты winston super slims silver пачка</td>\n",
       "      <td>winston</td>\n",
       "      <td>табачные изделия</td>\n",
       "      <td>нет</td>\n",
       "      <td>шт</td>\n",
       "      <td>россия</td>\n",
       "    </tr>\n",
       "  </tbody>\n",
       "</table>\n",
       "</div>"
      ],
      "text/plain": [
       "         sku_id     price    number  cheque_id  litrs  client_id  shop_id  \\\n",
       "2261766    1827  0.002822  0.000452      49491    0.0   103147.0       18   \n",
       "5017532    3861  0.013802  0.000452    1791643    0.0        NaN       77   \n",
       "3612392    3708  0.002822  0.000452     785453    0.0    82841.0       68   \n",
       "1709550     964  0.009492  0.000452    2443016    0.0        NaN       54   \n",
       "199706      834  0.007029  0.000452    2404746    0.0    51298.0       78   \n",
       "\n",
       "         year  month  week  day  dayofweek  \\\n",
       "2261766  2171      4    15   14          6   \n",
       "5017532  2171      6    23    9          6   \n",
       "3612392  2171      5    19   12          6   \n",
       "1709550  2171      4    14    2          1   \n",
       "199706   2171      3    10    4          0   \n",
       "\n",
       "                                                 full_name           brand  \\\n",
       "2261766  напиток fly cafe (стм)/g-fly безалкогольный не...  fly cafe (стм)   \n",
       "5017532     леденцы halls mini mints цитрусовый пунш 12,5г           halls   \n",
       "3612392  вода aqua minerale питьевая уранированная чере...   aqua minerale   \n",
       "1709550                    сигареты kiss super slims dream             NaN   \n",
       "199706           сигареты winston super slims silver пачка         winston   \n",
       "\n",
       "                    sku_group  OTM units country  \n",
       "2261766                  вода   да     л     NaN  \n",
       "5017532  кондитерские изделия  нет     г  турция  \n",
       "3612392                  вода  нет     л  россия  \n",
       "1709550      табачные изделия  нет   NaN  россия  \n",
       "199706       табачные изделия  нет    шт  россия  "
      ]
     },
     "execution_count": 25,
     "metadata": {},
     "output_type": "execute_result"
    }
   ],
   "source": [
    "train_transactions.sample(5, random_state=seed)"
   ]
  },
  {
   "cell_type": "markdown",
   "id": "ca33703b-a769-4fc4-ae74-0f9617dcb7c2",
   "metadata": {},
   "source": [
    "# Бейзлайн"
   ]
  },
  {
   "cell_type": "markdown",
   "id": "b04f84c0-4819-4406-a2ad-5c78c26a79e9",
   "metadata": {},
   "source": [
    "В качестве бейзлана будем рекомендовать топ-20 самых популярных товаров из категорий, по которым хотят увеличить продажи"
   ]
  },
  {
   "cell_type": "code",
   "execution_count": 26,
   "id": "46a2e976-df95-4903-9ee6-ca4db4c8fddb",
   "metadata": {},
   "outputs": [],
   "source": [
    "desired_groups = {\n",
    "    'вода',\n",
    "    'сладкие газированные напитки, холодный чай',\n",
    "    'кофейные напитки с молоком',\n",
    "    'энергетические напитки',\n",
    "    'снеки',\n",
    "    'соки и сокосодержащие напитки'\n",
    "}\n",
    "\n",
    "top_20_products = pd.DataFrame(\n",
    "    train_transactions\n",
    "    .loc[train_transactions['sku_group'].isin(desired_groups)]\n",
    "    .groupby('sku_id')['sku_id']\n",
    "    .count()\n",
    "    .sort_values(ascending=False)\n",
    "    [:20]\n",
    ").rename(columns={'sku_id': 'count'})"
   ]
  },
  {
   "cell_type": "code",
   "execution_count": 27,
   "id": "7bcbdf1b-fdda-48fc-bf72-fde1bb7c63df",
   "metadata": {},
   "outputs": [
    {
     "data": {
      "text/html": [
       "<div>\n",
       "<style scoped>\n",
       "    .dataframe tbody tr th:only-of-type {\n",
       "        vertical-align: middle;\n",
       "    }\n",
       "\n",
       "    .dataframe tbody tr th {\n",
       "        vertical-align: top;\n",
       "    }\n",
       "\n",
       "    .dataframe thead th {\n",
       "        text-align: right;\n",
       "    }\n",
       "</style>\n",
       "<table border=\"1\" class=\"dataframe\">\n",
       "  <thead>\n",
       "    <tr style=\"text-align: right;\">\n",
       "      <th></th>\n",
       "      <th>count</th>\n",
       "      <th>full_name</th>\n",
       "      <th>brand</th>\n",
       "      <th>sku_group</th>\n",
       "      <th>OTM</th>\n",
       "      <th>units</th>\n",
       "      <th>country</th>\n",
       "    </tr>\n",
       "    <tr>\n",
       "      <th>sku_id</th>\n",
       "      <th></th>\n",
       "      <th></th>\n",
       "      <th></th>\n",
       "      <th></th>\n",
       "      <th></th>\n",
       "      <th></th>\n",
       "      <th></th>\n",
       "    </tr>\n",
       "  </thead>\n",
       "  <tbody>\n",
       "    <tr>\n",
       "      <th>3329</th>\n",
       "      <td>99324</td>\n",
       "      <td>напиток fly cafe молокосодержащий кофейный мок...</td>\n",
       "      <td>fly cafe</td>\n",
       "      <td>кофейные напитки с молоком</td>\n",
       "      <td>нет</td>\n",
       "      <td>л</td>\n",
       "      <td>россия</td>\n",
       "    </tr>\n",
       "    <tr>\n",
       "      <th>3324</th>\n",
       "      <td>76094</td>\n",
       "      <td>напиток fly cafe молокосодержащий кофейный флэ...</td>\n",
       "      <td>fly cafe</td>\n",
       "      <td>кофейные напитки с молоком</td>\n",
       "      <td>да</td>\n",
       "      <td>л</td>\n",
       "      <td>NaN</td>\n",
       "    </tr>\n",
       "    <tr>\n",
       "      <th>3334</th>\n",
       "      <td>45861</td>\n",
       "      <td>кофе fly cafe латте холодный 0,2л</td>\n",
       "      <td>fly cafe</td>\n",
       "      <td>кофейные напитки с молоком</td>\n",
       "      <td>нет</td>\n",
       "      <td>л</td>\n",
       "      <td>NaN</td>\n",
       "    </tr>\n",
       "    <tr>\n",
       "      <th>1551</th>\n",
       "      <td>38332</td>\n",
       "      <td>NaN</td>\n",
       "      <td>NaN</td>\n",
       "      <td>кофейные напитки с молоком</td>\n",
       "      <td>NaN</td>\n",
       "      <td>NaN</td>\n",
       "      <td>NaN</td>\n",
       "    </tr>\n",
       "    <tr>\n",
       "      <th>3330</th>\n",
       "      <td>36327</td>\n",
       "      <td>напиток fly cafe молокосодержащий кофейный лат...</td>\n",
       "      <td>fly cafe</td>\n",
       "      <td>кофейные напитки с молоком</td>\n",
       "      <td>да</td>\n",
       "      <td>л</td>\n",
       "      <td>NaN</td>\n",
       "    </tr>\n",
       "    <tr>\n",
       "      <th>2673</th>\n",
       "      <td>35840</td>\n",
       "      <td>NaN</td>\n",
       "      <td>NaN</td>\n",
       "      <td>кофейные напитки с молоком</td>\n",
       "      <td>NaN</td>\n",
       "      <td>NaN</td>\n",
       "      <td>NaN</td>\n",
       "    </tr>\n",
       "    <tr>\n",
       "      <th>808</th>\n",
       "      <td>33478</td>\n",
       "      <td>напиток g-fly (стм) original энергетический бе...</td>\n",
       "      <td>g-fly (стм)</td>\n",
       "      <td>энергетические напитки</td>\n",
       "      <td>нет</td>\n",
       "      <td>л</td>\n",
       "      <td>россия</td>\n",
       "    </tr>\n",
       "    <tr>\n",
       "      <th>1535</th>\n",
       "      <td>25169</td>\n",
       "      <td>вода fly cafe (стм)/g-fly питьевая неуранирова...</td>\n",
       "      <td>fly cafe (стм)</td>\n",
       "      <td>вода</td>\n",
       "      <td>нет</td>\n",
       "      <td>л</td>\n",
       "      <td>россия</td>\n",
       "    </tr>\n",
       "    <tr>\n",
       "      <th>3336</th>\n",
       "      <td>24635</td>\n",
       "      <td>напиток fly cafe молокосодержащий кофейный мок...</td>\n",
       "      <td>fly cafe</td>\n",
       "      <td>кофейные напитки с молоком</td>\n",
       "      <td>нет</td>\n",
       "      <td>л</td>\n",
       "      <td>россия</td>\n",
       "    </tr>\n",
       "    <tr>\n",
       "      <th>434</th>\n",
       "      <td>24582</td>\n",
       "      <td>напиток red bull energy drink энергетический ж...</td>\n",
       "      <td>red bull</td>\n",
       "      <td>энергетические напитки</td>\n",
       "      <td>нет</td>\n",
       "      <td>шт</td>\n",
       "      <td>австрия</td>\n",
       "    </tr>\n",
       "    <tr>\n",
       "      <th>433</th>\n",
       "      <td>20108</td>\n",
       "      <td>напиток burn энергетический оригинальный ж/б 0...</td>\n",
       "      <td>burn</td>\n",
       "      <td>энергетические напитки</td>\n",
       "      <td>нет</td>\n",
       "      <td>л</td>\n",
       "      <td>россия</td>\n",
       "    </tr>\n",
       "    <tr>\n",
       "      <th>3325</th>\n",
       "      <td>20093</td>\n",
       "      <td>напиток fly cafe молокосодержащий кофейный мок...</td>\n",
       "      <td>fly cafe</td>\n",
       "      <td>кофейные напитки с молоком</td>\n",
       "      <td>нет</td>\n",
       "      <td>л</td>\n",
       "      <td>россия</td>\n",
       "    </tr>\n",
       "    <tr>\n",
       "      <th>1533</th>\n",
       "      <td>19698</td>\n",
       "      <td>напиток red bull sugarfree энергетический ж/б ...</td>\n",
       "      <td>red bull</td>\n",
       "      <td>энергетические напитки</td>\n",
       "      <td>нет</td>\n",
       "      <td>л</td>\n",
       "      <td>австрия</td>\n",
       "    </tr>\n",
       "    <tr>\n",
       "      <th>403</th>\n",
       "      <td>18036</td>\n",
       "      <td>вода evian минеральная неуранированная стекло ...</td>\n",
       "      <td>evian</td>\n",
       "      <td>вода</td>\n",
       "      <td>нет</td>\n",
       "      <td>л</td>\n",
       "      <td>франция</td>\n",
       "    </tr>\n",
       "    <tr>\n",
       "      <th>580</th>\n",
       "      <td>18033</td>\n",
       "      <td>вода bonaqua питьевая неуранированная пэт 0,5л</td>\n",
       "      <td>bonaqua</td>\n",
       "      <td>вода</td>\n",
       "      <td>нет</td>\n",
       "      <td>л</td>\n",
       "      <td>беларусь</td>\n",
       "    </tr>\n",
       "    <tr>\n",
       "      <th>3839</th>\n",
       "      <td>15671</td>\n",
       "      <td>NaN</td>\n",
       "      <td>NaN</td>\n",
       "      <td>кофейные напитки с молоком</td>\n",
       "      <td>NaN</td>\n",
       "      <td>NaN</td>\n",
       "      <td>NaN</td>\n",
       "    </tr>\n",
       "    <tr>\n",
       "      <th>229</th>\n",
       "      <td>15245</td>\n",
       "      <td>напиток red bull blue edition энергетический ж...</td>\n",
       "      <td>red bull</td>\n",
       "      <td>энергетические напитки</td>\n",
       "      <td>нет</td>\n",
       "      <td>л</td>\n",
       "      <td>NaN</td>\n",
       "    </tr>\n",
       "    <tr>\n",
       "      <th>431</th>\n",
       "      <td>15133</td>\n",
       "      <td>напиток red bull white edition энергетический ...</td>\n",
       "      <td>red bull</td>\n",
       "      <td>энергетические напитки</td>\n",
       "      <td>нет</td>\n",
       "      <td>л</td>\n",
       "      <td>австрия</td>\n",
       "    </tr>\n",
       "    <tr>\n",
       "      <th>153</th>\n",
       "      <td>14476</td>\n",
       "      <td>вода fly cafe (стм)/g-fly питьевая уранированн...</td>\n",
       "      <td>fly cafe (стм)</td>\n",
       "      <td>вода</td>\n",
       "      <td>нет</td>\n",
       "      <td>л</td>\n",
       "      <td>россия</td>\n",
       "    </tr>\n",
       "    <tr>\n",
       "      <th>817</th>\n",
       "      <td>13510</td>\n",
       "      <td>вода святой источник питьевая неуранированная ...</td>\n",
       "      <td>святой источник</td>\n",
       "      <td>вода</td>\n",
       "      <td>нет</td>\n",
       "      <td>л</td>\n",
       "      <td>россия</td>\n",
       "    </tr>\n",
       "  </tbody>\n",
       "</table>\n",
       "</div>"
      ],
      "text/plain": [
       "        count                                          full_name  \\\n",
       "sku_id                                                             \n",
       "3329    99324  напиток fly cafe молокосодержащий кофейный мок...   \n",
       "3324    76094  напиток fly cafe молокосодержащий кофейный флэ...   \n",
       "3334    45861                  кофе fly cafe латте холодный 0,2л   \n",
       "1551    38332                                                NaN   \n",
       "3330    36327  напиток fly cafe молокосодержащий кофейный лат...   \n",
       "2673    35840                                                NaN   \n",
       "808     33478  напиток g-fly (стм) original энергетический бе...   \n",
       "1535    25169  вода fly cafe (стм)/g-fly питьевая неуранирова...   \n",
       "3336    24635  напиток fly cafe молокосодержащий кофейный мок...   \n",
       "434     24582  напиток red bull energy drink энергетический ж...   \n",
       "433     20108  напиток burn энергетический оригинальный ж/б 0...   \n",
       "3325    20093  напиток fly cafe молокосодержащий кофейный мок...   \n",
       "1533    19698  напиток red bull sugarfree энергетический ж/б ...   \n",
       "403     18036  вода evian минеральная неуранированная стекло ...   \n",
       "580     18033     вода bonaqua питьевая неуранированная пэт 0,5л   \n",
       "3839    15671                                                NaN   \n",
       "229     15245  напиток red bull blue edition энергетический ж...   \n",
       "431     15133  напиток red bull white edition энергетический ...   \n",
       "153     14476  вода fly cafe (стм)/g-fly питьевая уранированн...   \n",
       "817     13510  вода святой источник питьевая неуранированная ...   \n",
       "\n",
       "                  brand                   sku_group  OTM units   country  \n",
       "sku_id                                                                    \n",
       "3329           fly cafe  кофейные напитки с молоком  нет     л    россия  \n",
       "3324           fly cafe  кофейные напитки с молоком   да     л       NaN  \n",
       "3334           fly cafe  кофейные напитки с молоком  нет     л       NaN  \n",
       "1551                NaN  кофейные напитки с молоком  NaN   NaN       NaN  \n",
       "3330           fly cafe  кофейные напитки с молоком   да     л       NaN  \n",
       "2673                NaN  кофейные напитки с молоком  NaN   NaN       NaN  \n",
       "808         g-fly (стм)      энергетические напитки  нет     л    россия  \n",
       "1535     fly cafe (стм)                        вода  нет     л    россия  \n",
       "3336           fly cafe  кофейные напитки с молоком  нет     л    россия  \n",
       "434            red bull      энергетические напитки  нет    шт   австрия  \n",
       "433                burn      энергетические напитки  нет     л    россия  \n",
       "3325           fly cafe  кофейные напитки с молоком  нет     л    россия  \n",
       "1533           red bull      энергетические напитки  нет     л   австрия  \n",
       "403               evian                        вода  нет     л   франция  \n",
       "580             bonaqua                        вода  нет     л  беларусь  \n",
       "3839                NaN  кофейные напитки с молоком  NaN   NaN       NaN  \n",
       "229            red bull      энергетические напитки  нет     л       NaN  \n",
       "431            red bull      энергетические напитки  нет     л   австрия  \n",
       "153      fly cafe (стм)                        вода  нет     л    россия  \n",
       "817     святой источник                        вода  нет     л    россия  "
      ]
     },
     "execution_count": 27,
     "metadata": {},
     "output_type": "execute_result"
    }
   ],
   "source": [
    "top_20_products.join(sku_info.set_index('sku_id'))"
   ]
  },
  {
   "cell_type": "markdown",
   "id": "8dd9bc2d-1042-4f46-9c21-b7619948825f",
   "metadata": {},
   "source": [
    "Посчитаем MAP@20 на тестовой выборке"
   ]
  },
  {
   "cell_type": "code",
   "execution_count": 28,
   "id": "a9bd2a55-8ae6-480e-b375-0ff370b041da",
   "metadata": {},
   "outputs": [],
   "source": [
    "test_actual = pd.DataFrame(\n",
    "    test_transactions\n",
    "    .groupby('cheque_id')['sku_id']\n",
    "    .apply(list)\n",
    "    .values.tolist()\n",
    ").values"
   ]
  },
  {
   "cell_type": "code",
   "execution_count": 29,
   "id": "dc3235d7-170c-4af5-ae48-32bfe2be2b56",
   "metadata": {},
   "outputs": [
    {
     "data": {
      "text/plain": [
       "array([[1180., 3334., 4587., ...,   nan,   nan,   nan],\n",
       "       [1158.,  834.,   nan, ...,   nan,   nan,   nan],\n",
       "       [ 824.,  112., 1344., ...,   nan,   nan,   nan],\n",
       "       ...,\n",
       "       [1159., 1159.,   nan, ...,   nan,   nan,   nan],\n",
       "       [1158., 1158.,   nan, ...,   nan,   nan,   nan],\n",
       "       [1158., 1158.,  151., ...,   nan,   nan,   nan]])"
      ]
     },
     "execution_count": 29,
     "metadata": {},
     "output_type": "execute_result"
    }
   ],
   "source": [
    "# Возникает побочный эффект в виде np.nan, но это не помешает делу\n",
    "test_actual"
   ]
  },
  {
   "cell_type": "code",
   "execution_count": 30,
   "id": "29f0bb16-ccf9-4894-8f16-55c07441ec1b",
   "metadata": {},
   "outputs": [],
   "source": [
    "test_predicted = np.tile(\n",
    "    top_20_products.index.values,\n",
    "    (len(test_actual), 1)\n",
    ")"
   ]
  },
  {
   "cell_type": "code",
   "execution_count": 31,
   "id": "851bdf02-13f4-4561-afa7-edccbd77e68d",
   "metadata": {},
   "outputs": [
    {
     "data": {
      "application/vnd.jupyter.widget-view+json": {
       "model_id": "2beac40718d649deaf776a6f2c0181fa",
       "version_major": 2,
       "version_minor": 0
      },
      "text/plain": [
       "  0%|          | 0/867282 [00:00<?, ?it/s]"
      ]
     },
     "metadata": {},
     "output_type": "display_data"
    },
    {
     "data": {
      "text/plain": [
       "0.0036351249992426483"
      ]
     },
     "execution_count": 31,
     "metadata": {},
     "output_type": "execute_result"
    }
   ],
   "source": [
    "from metrics import mean_average_precision_at_k\n",
    "\n",
    "\n",
    "mean_average_precision_at_k(test_actual, test_predicted)  # 0.00364"
   ]
  },
  {
   "cell_type": "markdown",
   "id": "d9156a7a-c1c3-48ff-9aee-eebcc00cbef9",
   "metadata": {},
   "source": [
    "Метрика не очень высокая, но это простой бейзлан, и важно понимать, что MAP@K **не подходит** для нашей задачи. Мы хотим увеличить продажи **определённых** групп товаров, и далеко не факт, что люди покупали эти товары на истории, поэтому и значение метрики будет небольшим. Если пытаться решить этот вопрос и, например, на истории брать только продажи заданных групп и считать метрику для бейзлайна, то MAP@K будет равен 1, но модель, очевидно, не лучшая.\n",
    "\n",
    "Точно подошла бы онлайн-метрика: в ритейле таковыми чаще всего выступают маржинальность и розничный товарооборот. Можно было бы провести A/B-тест (в одной группе АЗС продавец рекомендует любой товар из желаемых групп, в другой товар, который наша модель считает наиболее вероятным) и посмотреть, действительно ли наша модель увеличивает продажи (РТО) этих товаров.\n",
    "\n",
    "Конечно, никто не будет делать A/B тест модели с непонятными оффлайн-метриками и их значениями, поэтому это открытый вопрос."
   ]
  },
  {
   "cell_type": "markdown",
   "id": "cf23e9e4-84d2-45c3-b01e-59ea973fa700",
   "metadata": {},
   "source": [
    "# Векторные представления для товаров и чеков"
   ]
  },
  {
   "cell_type": "markdown",
   "id": "64c8e64f-3455-4ed0-805b-6ceee9e6c4a7",
   "metadata": {},
   "source": [
    "Закодируем признаки sku с помощью фиктивных переменных и уменьшим размерность.\\\n",
    "С бинарными признаками хорошо справляется Multiple Correspondence Analysis, но в известных библиотеках он не имплементирован, поэтому использовать будем PCA.\n",
    "\n",
    "Так мы получим векторные представления товаров. В качестве векторного представления чека возьмём среднее векторных представлений товаров, принадлежащих этому чеку, и для нового чека будет рекомендовать ближайший к нему в евклидовом смысле товар из желаемых категорий."
   ]
  },
  {
   "cell_type": "code",
   "execution_count": 32,
   "id": "7986ab59-d784-4e48-904a-62448b09c536",
   "metadata": {},
   "outputs": [],
   "source": [
    "from sklearn.decomposition import PCA\n",
    "from sklearn.neighbors import NearestNeighbors\n",
    "\n",
    "\n",
    "encoded_sku_info = pd.get_dummies(\n",
    "    sku_info\n",
    "    .drop(columns='full_name')\n",
    "    .set_index('sku_id'),\n",
    "    dummy_na=True  # считаем пропуск значением переменной\n",
    ")\n",
    "\n",
    "# Если посмотреть, то 100 компонент сохраняют 90% дисперсии\n",
    "# Я оставил примерно 20, чтобы последующие вычисления занимали не так много времени\n",
    "pca = PCA(n_components=0.8, random_state=seed)\n",
    "transformed_sku_info = pd.DataFrame(\n",
    "    pca.fit_transform(encoded_sku_info),\n",
    "    index=encoded_sku_info.index\n",
    ")"
   ]
  },
  {
   "cell_type": "code",
   "execution_count": 33,
   "id": "b2e71726-1878-4614-8b09-61c6dd99914d",
   "metadata": {},
   "outputs": [],
   "source": [
    "# Для поиска ближайшего товара будем использовать КД-дерево\n",
    "from sklearn.neighbors import KDTree\n",
    "\n",
    "desired_sku = sku_info.loc[sku_info['sku_group'].isin(desired_groups), 'sku_id'].values\n",
    "tree = KDTree(transformed_sku_info.loc[desired_sku].values)"
   ]
  },
  {
   "cell_type": "code",
   "execution_count": 34,
   "id": "f4ba2ae8-1259-44b3-8df7-c84e71671706",
   "metadata": {
    "tags": []
   },
   "outputs": [
    {
     "data": {
      "application/vnd.jupyter.widget-view+json": {
       "model_id": "99a28a74b8d14522a35d98bfe7b4f9f8",
       "version_major": 2,
       "version_minor": 0
      },
      "text/plain": [
       "  0%|          | 0/867282 [00:00<?, ?it/s]"
      ]
     },
     "metadata": {},
     "output_type": "display_data"
    },
    {
     "name": "stdout",
     "output_type": "stream",
     "text": [
      "MAP@K: 0.00010524717679569223\n"
     ]
    }
   ],
   "source": [
    "from metrics import average_precision_at_k\n",
    "\n",
    "\n",
    "apk = []\n",
    "for actual in tqdm(test_actual):\n",
    "    actual = actual[~np.isnan(actual)]\n",
    "    embedding = transformed_sku_info.loc[actual].sum().values  # эмбеддинг чека\n",
    "    _, predicted = tree.query(embedding.reshape(1, -1), k=20)\n",
    "    predicted = predicted[0]\n",
    "    \n",
    "    apk.append(average_precision_at_k(actual, predicted))\n",
    "\n",
    "print(f'MAP@K: {np.mean(apk)}')"
   ]
  },
  {
   "cell_type": "markdown",
   "id": "225621b4-3598-4163-8b0b-6d891df65ae4",
   "metadata": {},
   "source": [
    "Подход с эмбеддингами на основе one hot encoding - не лучшая идея, и, как и следовало ожидать, метрика не самая высокая."
   ]
  },
  {
   "cell_type": "markdown",
   "id": "a037fd34-7f38-4e13-95ff-9f4c53038f99",
   "metadata": {},
   "source": [
    "# User-Item матрица и случайные блуждания"
   ]
  },
  {
   "cell_type": "markdown",
   "id": "722eef44-a7d2-49b4-a4cb-37257781b05d",
   "metadata": {},
   "source": [
    "Попробуем подход со случайными блужданиями по матрице смежности графа (привычную матрицу \"юзер-айтем\", которая часто всплывает в задаче ранжирования/рекомендаций можно мыслить как матрицу смежности двудольного графа), описанный в следующей статье: https://nms.kcl.ac.uk/colin.cooper/papers/recommender-rw.pdf\n",
    "\n",
    "Проблема подхода в том, что мы не сможем порекомендовать товары новому клиенту (здесь можно посмотреть в сторону Alternating Least Squares, который можно быстро выучивать векторное представление пользователя по уже имеющимся для \"юзеров\" и \"айтемов\"). Поэтому здесь я не буду делить выборку транзакций на трейн и тест."
   ]
  },
  {
   "cell_type": "code",
   "execution_count": 35,
   "id": "cef5fa94-6b24-4366-8cb7-f87e376e4745",
   "metadata": {},
   "outputs": [],
   "source": [
    "# С матрицей будем работать в разреженном виде\n",
    "from scipy.sparse import csr_matrix\n",
    "from sklearn.preprocessing import normalize"
   ]
  },
  {
   "cell_type": "code",
   "execution_count": 36,
   "id": "ecc2caba-be86-4e19-bb7a-fafc68a115bb",
   "metadata": {},
   "outputs": [],
   "source": [
    "# Модель буду строить и проверять на случайной подвыборке транзакций, иначе мне не хватит памяти\n",
    "\n",
    "def clear_and_sample_transactions(transactions: pd.DataFrame,\n",
    "                                  size: int = 10**6) -> pd.DataFrame:\n",
    "    clear_transactions = (\n",
    "    transactions\n",
    "    .dropna()\n",
    "    .sort_values(by='sku_id')\n",
    ")\n",
    "    clear_transactions['client_id'] = clear_transactions['client_id'].astype(int)\n",
    "    clear_transactions['hit'] = 1  # Клиент купил товар (нужно для разреженной матрицы)\n",
    "    return clear_transactions.sample(size, random_state=seed)"
   ]
  },
  {
   "cell_type": "code",
   "execution_count": 39,
   "id": "2611e6d9-2637-479f-86b7-09c27ca0491b",
   "metadata": {},
   "outputs": [],
   "source": [
    "transactions = pd.read_parquet(f'{path_to_data}transactions.parquet')\n",
    "clear_transactions = clear_and_sample_transactions(transactions, 5 * 10**5)\n",
    "\n",
    "rows, r_pos = np.unique(clear_transactions['client_id'].values, return_inverse=True)\n",
    "cols, c_pos = np.unique(clear_transactions['sku_id'].values, return_inverse=True)\n",
    "\n",
    "ui = csr_matrix((clear_transactions['hit'].values, (r_pos, c_pos)))\n",
    "ui_T = ui.transpose(copy=True)\n",
    "\n",
    "ui = normalize(ui, norm='l2', axis=1)\n",
    "ui_T = normalize(ui_T, norm='l2', axis=1)\n",
    "\n",
    "del rows, cols, r_pos, c_pos"
   ]
  },
  {
   "cell_type": "code",
   "execution_count": 40,
   "id": "849bbc58-ccef-4581-bead-0e540131d019",
   "metadata": {},
   "outputs": [],
   "source": [
    "actual = pd.DataFrame(\n",
    "    clear_transactions\n",
    "    .groupby('client_id')['sku_id']\n",
    "    .apply(list)\n",
    "    .values.tolist()\n",
    ").values\n",
    "del clear_transactions"
   ]
  },
  {
   "cell_type": "code",
   "execution_count": 41,
   "id": "2db94944-8fbf-4ee8-983d-8216f78f98e7",
   "metadata": {},
   "outputs": [
    {
     "data": {
      "application/vnd.jupyter.widget-view+json": {
       "model_id": "606d3dad8e20493f8b2131a65bbefbd8",
       "version_major": 2,
       "version_minor": 0
      },
      "text/plain": [
       "  0%|          | 0/198954 [00:00<?, ?it/s]"
      ]
     },
     "metadata": {},
     "output_type": "display_data"
    }
   ],
   "source": [
    "sparse_predicted = ui @ ui_T @ ui\n",
    "apk = []\n",
    "for i, p in enumerate(tqdm(sparse_predicted, total=len(actual))):\n",
    "    p = np.array(p.todense()).flatten()\n",
    "    p = p[np.in1d(np.argsort(p), desired_sku)]\n",
    "    a = actual[i][~np.isnan(actual[i])]\n",
    "    apk.append(average_precision_at_k(a, p))"
   ]
  },
  {
   "cell_type": "code",
   "execution_count": 42,
   "id": "802139d3-51da-4bfe-8db6-5795cd6e7af8",
   "metadata": {},
   "outputs": [
    {
     "name": "stdout",
     "output_type": "stream",
     "text": [
      "MAP@K: 2.392975224436398e-06\n"
     ]
    }
   ],
   "source": [
    "print(f'MAP@K: {np.mean(apk)}')"
   ]
  },
  {
   "cell_type": "markdown",
   "id": "2dcc9420-1136-479b-a86b-c6c13762a0c5",
   "metadata": {},
   "source": [
    "Как уже отмечалось ранее, по этой метрике нельзя судить, как хорошо модель решает задачу рекомендации товаров **определённых** групп. Поэтому не страшно, что она ниже, чем у бейзлайна."
   ]
  },
  {
   "cell_type": "markdown",
   "id": "b3dc7235-73cb-46fe-9366-cb572d561a42",
   "metadata": {},
   "source": [
    "# Выводы"
   ]
  },
  {
   "cell_type": "markdown",
   "id": "87b1218a-4065-40f1-9b1e-4ef61523d7bd",
   "metadata": {},
   "source": [
    "Проведен разведочный анализ данных, предложены методы заполнения пропущенных значений.\\\n",
    "В качестве бейзлайна были взяты топ-20 самых популярных товаров из указанных в задании категорий.\\\n",
    "Опробованы два подхода к построению рекомендаций: векторное представление товаров и чека и применение случайных блужданий по матрице user-item.\\\n",
    "Отмечено, что метрика MAP@K не подходит для данной задачи, следовательно, делать выводы по её значениям нельзя, для всех трех подходов посчитана в информативных целях.\n",
    "\n",
    "\n",
    "Поскольку последний подход предполагает наличие информации о прошлых покупках клиента, он не подойдёт для рекомендации \"не представившимся\" и новыми покупателям. В итоговой модели можно объединить два подхода: для неизвестных нам клиентов предсказывать топ-20 самых покупаемых (на практике это частый бейзлайн для холодных рекомендаций), а для известных использовать подход, представленный в пункте 6."
   ]
  },
  {
   "cell_type": "markdown",
   "id": "48904a8b-29ca-4905-98d9-b74e1f4c3082",
   "metadata": {},
   "source": [
    "# Идеи"
   ]
  },
  {
   "cell_type": "markdown",
   "id": "17f6bbe4-db2f-4238-a593-8f1741c8e161",
   "metadata": {},
   "source": [
    "0. Качественнее заполнить пропуски в номенклатуре. Но, честно говоря, проще будет внутри **Организации** более качественно хранить данные о товарах\n",
    "1. Векторные представления товаров и чеков можно строить умнее, например, с помощью encoder layer в нейронных сетях\n",
    "2. Рекомендации можно улучшить с помощью [Market Basket Analysis](https://en.wikipedia.org/wiki/Affinity_analysis): для каждого товара найти товар(-ы), которые вероятнее всего купят вместе с ним (например, печенье к кофе)\n",
    "\n",
    "У меня немного опыта работы с рекомендательными системами, историю транзакций использовал не на максимум. Возможно, хорошей идеей будет обучить классификатор на выборке с positive/negative sampling:\n",
    "\n",
    "3. На всей истории из каждого чека можно удалить один случайный товар, сделать его таргетом (метка 1),\n",
    "кроме этого, для каждого чека в таргет с меткой 0 (negative sampling) помещается товар, не принадлежащий этому чеку.\\\n",
    "Тогда можно будет обучить классификатор (данных много, они разнородные, табличные $\\Rightarrow$ хорошо подойдёт градиентный бустинг, например, CatBoostClassifier), который по чеку и некоторому (лучше заранее отобранному) набору товаров будет предсказывать вероятности вхождения этих товаров в чек. \\\n",
    "То, как искать этот набор товаров заранее, - тоже отличный вопрос. В нашей задаче хотят увеличить продажи из конкретных групп, можно просто брать товары из этих групп"
   ]
  },
  {
   "cell_type": "code",
   "execution_count": null,
   "id": "7e293ce6-308d-4ae5-82cc-471d72bb95d5",
   "metadata": {},
   "outputs": [],
   "source": []
  }
 ],
 "metadata": {
  "kernelspec": {
   "display_name": "Python 3 (ipykernel)",
   "language": "python",
   "name": "python3"
  },
  "language_info": {
   "codemirror_mode": {
    "name": "ipython",
    "version": 3
   },
   "file_extension": ".py",
   "mimetype": "text/x-python",
   "name": "python",
   "nbconvert_exporter": "python",
   "pygments_lexer": "ipython3",
   "version": "3.10.6"
  },
  "toc-autonumbering": true
 },
 "nbformat": 4,
 "nbformat_minor": 5
}
